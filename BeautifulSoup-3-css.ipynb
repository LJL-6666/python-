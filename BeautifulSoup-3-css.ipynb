{
 "cells": [
  {
   "cell_type": "markdown",
   "metadata": {},
   "source": [
    "# 一、CSS选择器"
   ]
  },
  {
   "cell_type": "markdown",
   "metadata": {},
   "source": [
    "Beautiful Soup还提供了另外一种选择器，那就是CSS选择器。CSS选择器可以参考http://www.w3school.com.cn/cssref/css_selectors.asp了解。"
   ]
  },
  {
   "cell_type": "markdown",
   "metadata": {},
   "source": [
    "CSS是层叠样式表(英文全称：Cascading Style Sheets)是一种用来表现HTML（标准通用标记语言的一个应用）或XML（标准通用标记语言的一个子集）等文件样式的计算机语言。CSS不仅可以静态地修饰网页，还可以配合各种脚本语言动态地对网页各元素进行格式化。 [1] \n",
    "\n",
    "在网络爬虫的页面解析中，CCS选择器实际上是一把效率甚高的利器。"
   ]
  },
  {
   "cell_type": "markdown",
   "metadata": {},
   "source": [
    "使用CSS选择器的优势："
   ]
  },
  {
   "cell_type": "markdown",
   "metadata": {},
   "source": [
    "使用CSS选择器时，只需要调用select()方法，传入相应的CSS选择器即可。"
   ]
  },
  {
   "cell_type": "code",
   "execution_count": 57,
   "metadata": {},
   "outputs": [
    {
     "name": "stdout",
     "output_type": "stream",
     "text": [
      "[<div class=\"panel-heading\">\n",
      "<h4>Hello</h4>\n",
      "</div>]\n"
     ]
    }
   ],
   "source": [
    "html='''\n",
    "<div class=\"panel\">\n",
    "    <div class=\"panel-heading\">\n",
    "        <h4>Hello</h4>\n",
    "    </div>\n",
    "    <div class=\"panel-body\">\n",
    "        <ul class=\"list\" id=\"list-1\">\n",
    "            <li class=\"element\">Foo</li>\n",
    "            <li class=\"element\">Bar</li>\n",
    "            <li class=\"element\">Jay</li>\n",
    "        </ul>\n",
    "        <ul class=\"list list-small\" id=\"list-2\">\n",
    "            <li class=\"element\">Foo</li>\n",
    "            <li class=\"element\">Bar</li>\n",
    "        </ul>\n",
    "    </div>\n",
    "</div>\n",
    "'''\n",
    "from bs4 import BeautifulSoup\n",
    "soup = BeautifulSoup(html, 'lxml')\n",
    "print(soup.select('.panel .panel-heading'))"
   ]
  },
  {
   "cell_type": "code",
   "execution_count": 63,
   "metadata": {},
   "outputs": [
    {
     "name": "stdout",
     "output_type": "stream",
     "text": [
      "[<li class=\"element\">Foo</li>, <li class=\"element\">Bar</li>, <li class=\"element\">Jay</li>, <li class=\"element\">Foo</li>, <li class=\"element\">Bar</li>]\n"
     ]
    }
   ],
   "source": [
    "print(soup.select('ul li'))"
   ]
  },
  {
   "cell_type": "code",
   "execution_count": 62,
   "metadata": {},
   "outputs": [
    {
     "name": "stdout",
     "output_type": "stream",
     "text": [
      "[<li class=\"element\">Foo</li>, <li class=\"element\">Bar</li>]\n"
     ]
    }
   ],
   "source": [
    "print(soup.select('#list-2 .element'))"
   ]
  },
  {
   "cell_type": "code",
   "execution_count": 5,
   "metadata": {},
   "outputs": [
    {
     "name": "stdout",
     "output_type": "stream",
     "text": [
      "<class 'bs4.element.Tag'>\n"
     ]
    }
   ],
   "source": [
    "print(type(soup.select('ul')[0]))"
   ]
  },
  {
   "cell_type": "markdown",
   "metadata": {},
   "source": [
    "这里我们用了3次CSS选择器，返回的结果均是符合CSS选择器的节点组成的列表。例如，select('ul li')则是选择所有ul节点下面的所有li节点，结果便是所有的li节点组成的列表。"
   ]
  },
  {
   "cell_type": "markdown",
   "metadata": {},
   "source": [
    "这里我们用了3次CSS选择器，返回的结果均是符合CSS选择器的节点组成的列表。例如，select('ul li')则是选择所有ul节点下面的所有li节点，结果便是所有的li节点组成的列表。\n",
    "\n",
    "最后一句打印输出了列表中元素的类型。可以看到，类型依然是Tag类型。"
   ]
  },
  {
   "cell_type": "markdown",
   "metadata": {},
   "source": [
    "# 二、CSS基本语法"
   ]
  },
  {
   "cell_type": "markdown",
   "metadata": {},
   "source": [
    "### 1、元素选择器："
   ]
  },
  {
   "cell_type": "markdown",
   "metadata": {},
   "source": [
    "直接选择文档元素：比如head，p"
   ]
  },
  {
   "cell_type": "markdown",
   "metadata": {},
   "source": [
    "### 2、类选择器"
   ]
  },
  {
   "cell_type": "markdown",
   "metadata": {},
   "source": [
    "## <img src=\"图1.png\">"
   ]
  },
  {
   "cell_type": "markdown",
   "metadata": {},
   "source": [
    "### 3、ID选择器："
   ]
  },
  {
   "cell_type": "markdown",
   "metadata": {},
   "source": [
    "## <img src=\"图2.png\">"
   ]
  },
  {
   "cell_type": "markdown",
   "metadata": {},
   "source": [
    "### 4、属性选择器："
   ]
  },
  {
   "cell_type": "markdown",
   "metadata": {},
   "source": [
    "## <img src=\"图3.png\">"
   ]
  },
  {
   "cell_type": "markdown",
   "metadata": {},
   "source": [
    "### 5、后代（包含）选择器："
   ]
  },
  {
   "cell_type": "markdown",
   "metadata": {},
   "source": [
    "## <img src=\"图4.png\">"
   ]
  },
  {
   "cell_type": "markdown",
   "metadata": {},
   "source": [
    "### 6、子元素选择器："
   ]
  },
  {
   "cell_type": "markdown",
   "metadata": {},
   "source": [
    "## <img src=\"图5.png\">"
   ]
  },
  {
   "cell_type": "markdown",
   "metadata": {},
   "source": [
    "# 四、CSS选择器的使用方法介绍"
   ]
  },
  {
   "cell_type": "markdown",
   "metadata": {},
   "source": [
    "## 1、嵌套选择"
   ]
  },
  {
   "cell_type": "markdown",
   "metadata": {},
   "source": [
    "select()方法支持嵌套选择。例如，先选择所有ul节点，再遍历每个ul节点，选择其li节点，样例如下："
   ]
  },
  {
   "cell_type": "code",
   "execution_count": 65,
   "metadata": {},
   "outputs": [
    {
     "data": {
      "text/plain": [
       "'\\n<div class=\"panel\">\\n    <div class=\"panel-heading\">\\n        <h4>Hello</h4>\\n    </div>\\n    <div class=\"panel-body\">\\n        <ul class=\"list\" id=\"list-1\">\\n            <li class=\"element\">Foo</li>\\n            <li class=\"element\">Bar</li>\\n            <li class=\"element\">Jay</li>\\n        </ul>\\n        <ul class=\"list list-small\" id=\"list-2\">\\n            <li class=\"element\">Foo</li>\\n            <li class=\"element\">Bar</li>\\n        </ul>\\n    </div>\\n</div>\\n'"
      ]
     },
     "execution_count": 65,
     "metadata": {},
     "output_type": "execute_result"
    }
   ],
   "source": [
    "html='''\n",
    "<div class=\"panel\">\n",
    "    <div class=\"panel-heading\">\n",
    "        <h4>Hello</h4>\n",
    "    </div>\n",
    "    <div class=\"panel-body\">\n",
    "        <ul class=\"list\" id=\"list-1\">\n",
    "            <li class=\"element\">Foo</li>\n",
    "            <li class=\"element\">Bar</li>\n",
    "            <li class=\"element\">Jay</li>\n",
    "        </ul>\n",
    "        <ul class=\"list list-small\" id=\"list-2\">\n",
    "            <li class=\"element\">Foo</li>\n",
    "            <li class=\"element\">Bar</li>\n",
    "        </ul>\n",
    "    </div>\n",
    "</div>\n",
    "'''"
   ]
  },
  {
   "cell_type": "code",
   "execution_count": 81,
   "metadata": {},
   "outputs": [
    {
     "data": {
      "text/plain": [
       "[<li class=\"element\">Foo</li>,\n",
       " <li class=\"element\">Bar</li>,\n",
       " <li class=\"element\">Jay</li>,\n",
       " <li class=\"element\">Foo</li>,\n",
       " <li class=\"element\">Bar</li>]"
      ]
     },
     "execution_count": 81,
     "metadata": {},
     "output_type": "execute_result"
    }
   ],
   "source": [
    "soup.select('.element')"
   ]
  },
  {
   "cell_type": "code",
   "execution_count": 66,
   "metadata": {},
   "outputs": [],
   "source": [
    "from bs4 import BeautifulSoup\n",
    "soup = BeautifulSoup(html, 'lxml')"
   ]
  },
  {
   "cell_type": "code",
   "execution_count": 67,
   "metadata": {},
   "outputs": [
    {
     "data": {
      "text/plain": [
       "[<ul class=\"list\" id=\"list-1\">\n",
       " <li class=\"element\">Foo</li>\n",
       " <li class=\"element\">Bar</li>\n",
       " <li class=\"element\">Jay</li>\n",
       " </ul>, <ul class=\"list list-small\" id=\"list-2\">\n",
       " <li class=\"element\">Foo</li>\n",
       " <li class=\"element\">Bar</li>\n",
       " </ul>]"
      ]
     },
     "execution_count": 67,
     "metadata": {},
     "output_type": "execute_result"
    }
   ],
   "source": [
    "soup.select('ul')#选择出了所有标签为ul的，以列表形式存储"
   ]
  },
  {
   "cell_type": "code",
   "execution_count": 69,
   "metadata": {},
   "outputs": [
    {
     "name": "stdout",
     "output_type": "stream",
     "text": [
      "[<li class=\"element\">Foo</li>, <li class=\"element\">Bar</li>, <li class=\"element\">Jay</li>]\n",
      "[<li class=\"element\">Foo</li>, <li class=\"element\">Bar</li>]\n"
     ]
    }
   ],
   "source": [
    "from bs4 import BeautifulSoup\n",
    "soup = BeautifulSoup(html, 'lxml')\n",
    "for ul in soup.select('ul'):\n",
    "    print(ul.select('li'))"
   ]
  },
  {
   "cell_type": "code",
   "execution_count": 73,
   "metadata": {},
   "outputs": [
    {
     "data": {
      "text/plain": [
       "['Foo', 'Bar', 'Jay']"
      ]
     },
     "execution_count": 73,
     "metadata": {},
     "output_type": "execute_result"
    }
   ],
   "source": [
    "[u.string for u in soup.select('ul')[0].select('li')]"
   ]
  },
  {
   "cell_type": "markdown",
   "metadata": {},
   "source": [
    "这里正常输出了所有ul节点下所有li节点组成的列表。"
   ]
  },
  {
   "cell_type": "code",
   "execution_count": null,
   "metadata": {},
   "outputs": [],
   "source": []
  },
  {
   "cell_type": "markdown",
   "metadata": {},
   "source": [
    "## 2、获取属性值"
   ]
  },
  {
   "cell_type": "markdown",
   "metadata": {},
   "source": [
    "节点类型是Tag类型，所以获取属性还可以用原来的方法。仍然是上面的HTML文本，这里尝试获取每个ul节点的id属性："
   ]
  },
  {
   "cell_type": "code",
   "execution_count": 8,
   "metadata": {},
   "outputs": [
    {
     "data": {
      "text/plain": [
       "[<ul class=\"list\" id=\"list-1\">\n",
       " <li class=\"element\">Foo</li>\n",
       " <li class=\"element\">Bar</li>\n",
       " <li class=\"element\">Jay</li>\n",
       " </ul>, <ul class=\"list list-small\" id=\"list-2\">\n",
       " <li class=\"element\">Foo</li>\n",
       " <li class=\"element\">Bar</li>\n",
       " </ul>]"
      ]
     },
     "execution_count": 8,
     "metadata": {},
     "output_type": "execute_result"
    }
   ],
   "source": [
    "from bs4 import BeautifulSoup\n",
    "soup = BeautifulSoup(html, 'lxml')\n",
    "soup.select('ul')"
   ]
  },
  {
   "cell_type": "code",
   "execution_count": 74,
   "metadata": {},
   "outputs": [
    {
     "name": "stdout",
     "output_type": "stream",
     "text": [
      "['list']\n",
      "['list', 'list-small']\n"
     ]
    }
   ],
   "source": [
    "from bs4 import BeautifulSoup\n",
    "soup = BeautifulSoup(html, 'lxml')\n",
    "for ul in soup.select('ul'):\n",
    "    print(ul['class'])\n",
    "    "
   ]
  },
  {
   "cell_type": "markdown",
   "metadata": {},
   "source": [
    "直接传入中括号和属性名，以及通过attrs属性获取属性值，都可以成功。"
   ]
  },
  {
   "cell_type": "markdown",
   "metadata": {},
   "source": [
    "## 3、获取文本"
   ]
  },
  {
   "cell_type": "markdown",
   "metadata": {},
   "source": [
    "要获取文本，当然也可以用前面所讲的string属性。此外，还有一个方法，那就是get_text()，示例如下"
   ]
  },
  {
   "cell_type": "code",
   "execution_count": 77,
   "metadata": {},
   "outputs": [
    {
     "data": {
      "text/plain": [
       "'Foo'"
      ]
     },
     "execution_count": 77,
     "metadata": {},
     "output_type": "execute_result"
    }
   ],
   "source": [
    "soup.select('li')[0].string"
   ]
  },
  {
   "cell_type": "code",
   "execution_count": 13,
   "metadata": {},
   "outputs": [
    {
     "name": "stdout",
     "output_type": "stream",
     "text": [
      "Get Text: Foo\n",
      "String: Foo\n",
      "Get Text: Bar\n",
      "String: Bar\n",
      "Get Text: Jay\n",
      "String: Jay\n",
      "Get Text: Foo\n",
      "String: Foo\n",
      "Get Text: Bar\n",
      "String: Bar\n"
     ]
    }
   ],
   "source": [
    "from bs4 import BeautifulSoup\n",
    "soup = BeautifulSoup(html, 'lxml')\n",
    "for li in soup.select('li'):\n",
    "    print('Get Text:', li.get_text())\n",
    "    print('String:', li.string)"
   ]
  },
  {
   "cell_type": "markdown",
   "metadata": {},
   "source": [
    "到此，Beautiful Soup的用法基本就介绍完了，最后做一下简单的总结。\n",
    "\n",
    "1）推荐使用lxml解析库，必要时使用html.parser。\n",
    "\n",
    "2）节点选择筛选功能弱但是速度快。\n",
    "\n",
    "3）建议使用find()或者find_all()查询匹配单个结果或者多个结果。\n",
    "\n",
    "4）如果对CSS选择器熟悉的话，可以使用select()方法选择。"
   ]
  },
  {
   "cell_type": "markdown",
   "metadata": {},
   "source": [
    "# 三、实践案例"
   ]
  },
  {
   "cell_type": "markdown",
   "metadata": {},
   "source": [
    "使用CSS选择器来爬取猫眼电影TOP100榜"
   ]
  },
  {
   "cell_type": "code",
   "execution_count": 12,
   "metadata": {},
   "outputs": [],
   "source": [
    "##1、爬取一页"
   ]
  },
  {
   "cell_type": "code",
   "execution_count": 37,
   "metadata": {},
   "outputs": [
    {
     "name": "stdout",
     "output_type": "stream",
     "text": [
      "200\n"
     ]
    }
   ],
   "source": [
    "import requests\n",
    "url='https://maoyan.com/board/4?offset=0'\n",
    "headers={'User-Agent': 'Mozilla/5.0 (Macintosh; Intel Mac OS X 10_15_3) AppleWebKit/537.36 (KHTML, like Gecko) Chrome/80.0.3987.106 Safari/537.36'}\n",
    "res=requests.get(url,headers=headers,proxies=proxies)\n",
    "print(res.status_code)"
   ]
  },
  {
   "cell_type": "code",
   "execution_count": 39,
   "metadata": {},
   "outputs": [
    {
     "name": "stdout",
     "output_type": "stream",
     "text": [
      "200\n"
     ]
    }
   ],
   "source": [
    "import requests\n",
    "url='https://maoyan.com/board'\n",
    "headers={'User-Agent': 'Mozilla/5.0 (Macintosh; Intel Mac OS X 10_15_3) AppleWebKit/537.36 (KHTML, like Gecko) Chrome/80.0.3987.106 Safari/537.36'}\n",
    "res=requests.get(url,headers=headers,proxies=proxies)\n",
    "print(res.status_code)"
   ]
  },
  {
   "cell_type": "code",
   "execution_count": 40,
   "metadata": {},
   "outputs": [
    {
     "name": "stdout",
     "output_type": "stream",
     "text": [
      "<!DOCTYPE html>\n",
      "\n",
      "<!--[if IE 8]><html class=\"ie8\"><![endif]-->\n",
      "<!--[if IE 9]><html class=\"ie9\"><![endif]-->\n",
      "<!--[if gt IE 9]><!--><html><!--<![endif]-->\n",
      "<head>\n",
      "  <title>热映口碑榜 - 猫眼电影 - 一网打尽好电影</title>\n",
      "  \n",
      "  <link rel=\"dns-prefetch\" href=\"//p0.meituan.net\"  />\n",
      "  <link rel=\"dns-prefetch\" href=\"//p1.meituan.net\"  />\n",
      "  <link rel=\"dns-prefetch\" href=\"//ms0.meituan.net\" />\n",
      "  <link rel=\"dns-prefetch\" href=\"//s0.meituan.net\" />\n",
      "  <link rel=\"dns-prefetch\" href=\"//ms1.meituan.net\" />\n",
      "  <link rel=\"dns-prefetch\" href=\"//analytics.meituan.com\" />\n",
      "  <link rel=\"dns-prefetch\" href=\"//report.meituan.com\" />\n",
      "  <link rel=\"dns-prefetch\" href=\"//frep.meituan.com\" />\n",
      "\n",
      "  \n",
      "  <meta charset=\"utf-8\">\n",
      "  <meta name=\"keywords\" content=\"猫眼电影,电影排行榜,热映口碑榜,最受期待榜,国内票房榜,北美票房榜,猫眼TOP100\">\n",
      "  <meta name=\"description\" content=\"猫眼电影热门榜单,包括热映口碑榜,最受期待榜,国内票房榜,北美票房榜,猫眼TOP100,多维度为用户进行选片决策\">\n",
      "  <meta http-equiv=\"cleartype\" content=\"yes\" />\n",
      "  <meta http-equiv=\"X-UA-Compatible\" content=\"IE=edge\" />\n",
      "  <meta name=\"renderer\" content=\"webkit\" />\n",
      "\n",
      "  <meta name=\"HandheldFriendly\" content=\"true\" />\n",
      "  <meta name=\"format-detection\" content=\"email=no\" />\n",
      "  <meta name=\"format-detection\" content=\"telephone=no\" />\n",
      "  <meta name=\"viewport\" content=\"width=device-width, initial-scale=1\">\n",
      "\n",
      "  \n",
      "  <script>\"use strict\";!function(){var i=0<arguments.length&&void 0!==arguments[0]?arguments[0]:\"_Owl_\",n=window;n[i]||(n[i]={isRunning:!1,isReady:!1,preTasks:[],dataSet:[],use:function(i,t){this.isReady&&n.Owl&&n.Owl[i](t),this.preTasks.push({api:i,data:[t]})},add:function(i){this.dataSet.push(i)},run:function(){var t=this;if(!this.isRunning){this.isRunning=!0;var i=n.onerror;n.onerror=function(){this.isReady||this.add({type:\"jsError\",data:arguments}),i&&i.apply(n,arguments)}.bind(this),(n.addEventListener||n.attachEvent)(\"error\",function(i){t.isReady||t.add({type:\"resError\",data:[i]})},!0)}}},n[i].run())}();</script>\n",
      "  <script>\n",
      "  cid = \"c_wx6zb55\";\n",
      "  ci = 42;\n",
      "val = {\"subnavId\":7};    window.system = {};\n",
      "\n",
      "  window.openPlatform = '';\n",
      "  window.openPlatformSub = '';\n",
      "  window.$mtsiFlag = '0';\n",
      "\n",
      "  </script>\n",
      "  <link rel=\"stylesheet\" href=\"//s3plus.meituan.net/v1/mss_e2821d7f0cfe4ac1bf9202ecf9590e67/cdn-prod/file:5788b470/common.d1d257d3.css\"/>\n",
      "<link rel=\"stylesheet\" href=\"//s3plus.meituan.net/v1/mss_e2821d7f0cfe4ac1bf9202ecf9590e67/cdn-prod/file:5788b470/board-index.92a06072.css\"/>\n",
      "  <script crossorigin=\"anonymous\" src=\"//s3plus.meituan.net/v1/mss_e2821d7f0cfe4ac1bf9202ecf9590e67/cdn-prod/file:5788b470/stat.88d57c80.js\"></script>\n",
      "  <script>if(window.devicePixelRatio >= 2) { document.write('<link rel=\"stylesheet\" href=\"//s3plus.meituan.net/v1/mss_e2821d7f0cfe4ac1bf9202ecf9590e67/cdn-prod/file:5788b470/image-2x.8ba7074d.css\"/>') }</script>\n",
      "  <style>\n",
      "    @font-face {\n",
      "      font-family: stonefont;\n",
      "      src: url('//vfile.meituan.net/colorstone/40b5a14a8cb1d8f916e8aabf6f6dd3323424.eot');\n",
      "      src: url('//vfile.meituan.net/colorstone/40b5a14a8cb1d8f916e8aabf6f6dd3323424.eot?#iefix') format('embedded-opentype'),\n",
      "           url('//vfile.meituan.net/colorstone/0adaf21a4d028dbdafd6bcb3926072242284.woff') format('woff');\n",
      "    }\n",
      "\n",
      "    .stonefont {\n",
      "      font-family: stonefont;\n",
      "    }\n",
      "  </style>\n",
      "  <script>\n",
      "  var _hmt = _hmt || [];\n",
      "  (function() {\n",
      "  var hm = document.createElement(\"script\");\n",
      "  hm.src = \"https://hm.baidu.com/hm.js?703e94591e87be68cc8da0da7cbd0be2\";\n",
      "  var s = document.getElementsByTagName(\"script\")[0];\n",
      "  s.parentNode.insertBefore(hm, s);\n",
      "  })();\n",
      "  </script>\n",
      "</head>\n",
      "<body>\n",
      "\n",
      "\n",
      "<div class=\"header\">\n",
      "  <div class=\"header-inner\">\n",
      "          <a href=\"//maoyan.com\" class=\"logo\" data-act=\"icon-click\"></a>\n",
      "        <div class=\"city-container\" data-val=\"{currentcityid:42 }\">\n",
      "            <div class=\"city-selected\">\n",
      "                <div class=\"city-name\">\n",
      "                  西安\n",
      "                  <span class=\"caret\"></span>\n",
      "                </div>\n",
      "            </div>\n",
      "            <div class=\"city-list\" data-val=\"{ localcityid: 42 }\">\n",
      "                <div class=\"city-list-header\">定位城市：<a class=\"js-geo-city\" data-ci=\"42\">西安</a></div>\n",
      "                \n",
      "            </div>\n",
      "        </div>\n",
      "\n",
      "\n",
      "        <div class=\"nav\">\n",
      "            <ul class=\"navbar\">\n",
      "                <li><a href=\"/\" data-act=\"home-click\"  >首页</a></li>\n",
      "                <li><a href=\"/films\" data-act=\"movies-click\" >电影</a></li>\n",
      "                <li><a href=\"/cinemas\" data-act=\"cinemas-click\" >影院</a></li> \n",
      "                <li><a href=\"http://www.gewara.com\">演出</a></li>\n",
      "                \n",
      "                <li><a href=\"/board\" data-act=\"board-click\"  class=\"active\" >榜单</a></li>\n",
      "                <li><a href=\"/news\" data-act=\"hotNews-click\" >热点</a></li>\n",
      "                <li><a href=\"/edimall\"  >商城</a></li>\n",
      "            </ul>\n",
      "        </div>\n",
      "\n",
      "        <div class=\"user-info\">\n",
      "            <div class=\"user-avatar J-login\">\n",
      "              <img src=\"https://p0.meituan.net/movie/7dd82a16316ab32c8359debdb04396ef2897.png\">\n",
      "              <span class=\"caret\"></span>\n",
      "              <ul class=\"user-menu no-login-menu\">\n",
      "                <li><a href=\"javascript:void 0\">登录</a></li>\n",
      "              </ul>\n",
      "            </div>\n",
      "        </div>\n",
      "\n",
      "        <form action=\"/query\" target=\"_blank\" class=\"search-form\" data-actform=\"search-click\">\n",
      "            <input name=\"kw\" class=\"search\" type=\"search\" maxlength=\"32\" placeholder=\"找影视剧、影人、影院\" autocomplete=\"off\">\n",
      "            <input class=\"submit\" type=\"submit\" value=\"\">\n",
      "        </form>\n",
      "\n",
      "        <div class=\"app-download\">\n",
      "          <a href=\"/app\" target=\"_blank\">\n",
      "            <span class=\"iphone-icon\"></span>\n",
      "            <span class=\"apptext\">APP下载</span>\n",
      "            <span class=\"caret\"></span>\n",
      "            <div class=\"download-icon\">\n",
      "                <p class=\"down-title\">扫码下载APP</p>\n",
      "                <p class='down-content'>选座更优惠</p>\n",
      "            </div>\n",
      "          </a>\n",
      "        </div>\n",
      "    \n",
      "  </div>\n",
      "</div>\n",
      "<div class=\"header-placeholder\"></div>\n",
      "\n",
      "<div class=\"subnav\">\n",
      "  <ul class=\"navbar\">\n",
      "    <li>\n",
      "      <a data-act=\"subnav-click\" data-val=\"{subnavClick:7}\"\n",
      "          data-state-val=\"{subnavId:7}\"\n",
      "          class=\"active\" href=\"javascript:void(0);\"\n",
      "      >热映口碑榜</a>\n",
      "    </li>\n",
      "    <li>\n",
      "      <a data-act=\"subnav-click\" data-val=\"{subnavClick:6}\"\n",
      "          href=\"/board/6\"\n",
      "      >最受期待榜</a>\n",
      "    </li>\n",
      "    <li>\n",
      "      <a data-act=\"subnav-click\" data-val=\"{subnavClick:1}\"\n",
      "          href=\"/board/1\"\n",
      "      >国内票房榜</a>\n",
      "    </li>\n",
      "    <li>\n",
      "      <a data-act=\"subnav-click\" data-val=\"{subnavClick:2}\"\n",
      "          href=\"/board/2\"\n",
      "      >北美票房榜</a>\n",
      "    </li>\n",
      "    <li>\n",
      "      <a data-act=\"subnav-click\" data-val=\"{subnavClick:4}\"\n",
      "          href=\"/board/4\"\n",
      "      >TOP100榜</a>\n",
      "    </li>\n",
      "  </ul>\n",
      "</div>\n",
      "\n",
      "\n",
      "    <div class=\"container\" id=\"app\" class=\"page-board/index\" >\n",
      "\n",
      "<div class=\"content\">\n",
      "    <div class=\"wrapper\">\n",
      "        <div class=\"main\">\n",
      "            <p class=\"update-time\">2020-04-09<span class=\"has-fresh-text\">已更新</span></p>\n",
      "            <p class=\"board-content\">榜单规则：将昨日国内热映的影片，按照评分从高到低排列取前10名，每天上午10点更新。相关数据来源于“猫眼专业版”及“猫眼电影库”。</p>\n",
      "            <dl class=\"board-wrapper\">\n",
      "                <dd>\n",
      "                        <i class=\"board-index board-index-1\">1</i>\n",
      "    <a href=\"/films/1277939\" title=\"我和我的祖国\" class=\"image-link\" data-act=\"boarditem-click\" data-val=\"{movieId:1277939}\">\n",
      "      <img src=\"//s3plus.meituan.net/v1/mss_e2821d7f0cfe4ac1bf9202ecf9590e67/cdn-prod/file:5788b470/image/loading_2.e3d934bf.png\" alt=\"\" class=\"poster-default\" />\n",
      "      <img data-src=\"https://p0.meituan.net/moviemachine/b2c5c74d33e45745fd3462e44b3698e18336620.jpg@160w_220h_1e_1c\" alt=\"我和我的祖国\" class=\"board-img\" />\n",
      "    </a>\n",
      "    <div class=\"board-item-main\">\n",
      "      <div class=\"board-item-content\">\n",
      "              <div class=\"movie-item-info\">\n",
      "        <p class=\"name\"><a href=\"/films/1277939\" title=\"我和我的祖国\" data-act=\"boarditem-click\" data-val=\"{movieId:1277939}\">我和我的祖国</a></p>\n",
      "        <p class=\"star\">\n",
      "                主演：黄渤,张译,韩昊霖\n",
      "        </p>\n",
      "<p class=\"releasetime\">上映时间：2019-09-30</p>    </div>\n",
      "    <div class=\"movie-item-number score-num\">\n",
      "<p class=\"score\"><i class=\"integer\">9.</i><i class=\"fraction\">7</i></p>        \n",
      "    </div>\n",
      "\n",
      "      </div>\n",
      "    </div>\n",
      "\n",
      "                </dd>\n",
      "                <dd>\n",
      "                        <i class=\"board-index board-index-2\">2</i>\n",
      "    <a href=\"/films/1190122\" title=\"叶问4：完结篇\" class=\"image-link\" data-act=\"boarditem-click\" data-val=\"{movieId:1190122}\">\n",
      "      <img src=\"//s3plus.meituan.net/v1/mss_e2821d7f0cfe4ac1bf9202ecf9590e67/cdn-prod/file:5788b470/image/loading_2.e3d934bf.png\" alt=\"\" class=\"poster-default\" />\n",
      "      <img data-src=\"https://p0.meituan.net/movie/a3d6ca3bdd5b0ddd7016acff9a9f2f2e2805813.jpg@160w_220h_1e_1c\" alt=\"叶问4：完结篇\" class=\"board-img\" />\n",
      "    </a>\n",
      "    <div class=\"board-item-main\">\n",
      "      <div class=\"board-item-content\">\n",
      "              <div class=\"movie-item-info\">\n",
      "        <p class=\"name\"><a href=\"/films/1190122\" title=\"叶问4：完结篇\" data-act=\"boarditem-click\" data-val=\"{movieId:1190122}\">叶问4：完结篇</a></p>\n",
      "        <p class=\"star\">\n",
      "                主演：甄子丹,吴樾,吴建豪\n",
      "        </p>\n",
      "<p class=\"releasetime\">上映时间：2019-12-20</p>    </div>\n",
      "    <div class=\"movie-item-number score-num\">\n",
      "<p class=\"score\"><i class=\"integer\">9.</i><i class=\"fraction\">4</i></p>        \n",
      "    </div>\n",
      "\n",
      "      </div>\n",
      "    </div>\n",
      "\n",
      "                </dd>\n",
      "                <dd>\n",
      "                        <i class=\"board-index board-index-3\">3</i>\n",
      "    <a href=\"/films/416\" title=\"盗梦空间\" class=\"image-link\" data-act=\"boarditem-click\" data-val=\"{movieId:416}\">\n",
      "      <img src=\"//s3plus.meituan.net/v1/mss_e2821d7f0cfe4ac1bf9202ecf9590e67/cdn-prod/file:5788b470/image/loading_2.e3d934bf.png\" alt=\"\" class=\"poster-default\" />\n",
      "      <img data-src=\"https://p1.meituan.net/movie/d40efe1183f29d5900f5c60be3c8a89d339225.jpg@160w_220h_1e_1c\" alt=\"盗梦空间\" class=\"board-img\" />\n",
      "    </a>\n",
      "    <div class=\"board-item-main\">\n",
      "      <div class=\"board-item-content\">\n",
      "              <div class=\"movie-item-info\">\n",
      "        <p class=\"name\"><a href=\"/films/416\" title=\"盗梦空间\" data-act=\"boarditem-click\" data-val=\"{movieId:416}\">盗梦空间</a></p>\n",
      "        <p class=\"star\">\n",
      "                主演：莱昂纳多·迪卡普里奥,渡边谦,约瑟夫·高登-莱维特\n",
      "        </p>\n",
      "<p class=\"releasetime\">上映时间：2010-09-01</p>    </div>\n",
      "    <div class=\"movie-item-number score-num\">\n",
      "<p class=\"score\"><i class=\"integer\">9.</i><i class=\"fraction\">2</i></p>        \n",
      "    </div>\n",
      "\n",
      "      </div>\n",
      "    </div>\n",
      "\n",
      "                </dd>\n",
      "                <dd>\n",
      "                        <i class=\"board-index board-index-4\">4</i>\n",
      "    <a href=\"/films/1279731\" title=\"宠爱\" class=\"image-link\" data-act=\"boarditem-click\" data-val=\"{movieId:1279731}\">\n",
      "      <img src=\"//s3plus.meituan.net/v1/mss_e2821d7f0cfe4ac1bf9202ecf9590e67/cdn-prod/file:5788b470/image/loading_2.e3d934bf.png\" alt=\"\" class=\"poster-default\" />\n",
      "      <img data-src=\"https://p0.meituan.net/moviemachine/36eda496688542263d9a0f02ac728327823369.jpg@160w_220h_1e_1c\" alt=\"宠爱\" class=\"board-img\" />\n",
      "    </a>\n",
      "    <div class=\"board-item-main\">\n",
      "      <div class=\"board-item-content\">\n",
      "              <div class=\"movie-item-info\">\n",
      "        <p class=\"name\"><a href=\"/films/1279731\" title=\"宠爱\" data-act=\"boarditem-click\" data-val=\"{movieId:1279731}\">宠爱</a></p>\n",
      "        <p class=\"star\">\n",
      "                主演：于和伟,吴磊,张子枫\n",
      "        </p>\n",
      "<p class=\"releasetime\">上映时间：2019-12-31</p>    </div>\n",
      "    <div class=\"movie-item-number score-num\">\n",
      "<p class=\"score\"><i class=\"integer\">8.</i><i class=\"fraction\">9</i></p>        \n",
      "    </div>\n",
      "\n",
      "      </div>\n",
      "    </div>\n",
      "\n",
      "                </dd>\n",
      "                <dd>\n",
      "                        <i class=\"board-index board-index-5\">5</i>\n",
      "    <a href=\"/films/1256872\" title=\"为国而歌\" class=\"image-link\" data-act=\"boarditem-click\" data-val=\"{movieId:1256872}\">\n",
      "      <img src=\"//s3plus.meituan.net/v1/mss_e2821d7f0cfe4ac1bf9202ecf9590e67/cdn-prod/file:5788b470/image/loading_2.e3d934bf.png\" alt=\"\" class=\"poster-default\" />\n",
      "      <img data-src=\"https://p0.meituan.net/movie/db82e48befc1c7e2e98425165b2500d76222872.jpg@160w_220h_1e_1c\" alt=\"为国而歌\" class=\"board-img\" />\n",
      "    </a>\n",
      "    <div class=\"board-item-main\">\n",
      "      <div class=\"board-item-content\">\n",
      "              <div class=\"movie-item-info\">\n",
      "        <p class=\"name\"><a href=\"/films/1256872\" title=\"为国而歌\" data-act=\"boarditem-click\" data-val=\"{movieId:1256872}\">为国而歌</a></p>\n",
      "        <p class=\"star\">\n",
      "                主演：王雷,古力娜扎,海一天\n",
      "        </p>\n",
      "<p class=\"releasetime\">上映时间：2019-10-18</p>    </div>\n",
      "    <div class=\"movie-item-number score-num\">\n",
      "<p class=\"score\"><i class=\"integer\">8.</i><i class=\"fraction\">9</i></p>        \n",
      "    </div>\n",
      "\n",
      "      </div>\n",
      "    </div>\n",
      "\n",
      "                </dd>\n",
      "                <dd>\n",
      "                        <i class=\"board-index board-index-6\">6</i>\n",
      "    <a href=\"/films/78003\" title=\"西游·降魔篇\" class=\"image-link\" data-act=\"boarditem-click\" data-val=\"{movieId:78003}\">\n",
      "      <img src=\"//s3plus.meituan.net/v1/mss_e2821d7f0cfe4ac1bf9202ecf9590e67/cdn-prod/file:5788b470/image/loading_2.e3d934bf.png\" alt=\"\" class=\"poster-default\" />\n",
      "      <img data-src=\"https://p1.meituan.net/movie/bbece4ae764b9b9661655e54ce0347d6276411.jpg@160w_220h_1e_1c\" alt=\"西游·降魔篇\" class=\"board-img\" />\n",
      "    </a>\n",
      "    <div class=\"board-item-main\">\n",
      "      <div class=\"board-item-content\">\n",
      "              <div class=\"movie-item-info\">\n",
      "        <p class=\"name\"><a href=\"/films/78003\" title=\"西游·降魔篇\" data-act=\"boarditem-click\" data-val=\"{movieId:78003}\">西游·降魔篇</a></p>\n",
      "        <p class=\"star\">\n",
      "                主演：舒淇,文章,黄渤\n",
      "        </p>\n",
      "<p class=\"releasetime\">上映时间：2013-02-10</p>    </div>\n",
      "    <div class=\"movie-item-number score-num\">\n",
      "<p class=\"score\"><i class=\"integer\">8.</i><i class=\"fraction\">4</i></p>        \n",
      "    </div>\n",
      "\n",
      "      </div>\n",
      "    </div>\n",
      "\n",
      "                </dd>\n",
      "                <dd>\n",
      "                        <i class=\"board-index board-index-7\">7</i>\n",
      "    <a href=\"/films/337058\" title=\"不期而遇\" class=\"image-link\" data-act=\"boarditem-click\" data-val=\"{movieId:337058}\">\n",
      "      <img src=\"//s3plus.meituan.net/v1/mss_e2821d7f0cfe4ac1bf9202ecf9590e67/cdn-prod/file:5788b470/image/loading_2.e3d934bf.png\" alt=\"\" class=\"poster-default\" />\n",
      "      <img data-src=\"https://p0.meituan.net/movie/716fd3706814984a384be50e9c6d3058187208.jpg@160w_220h_1e_1c\" alt=\"不期而遇\" class=\"board-img\" />\n",
      "    </a>\n",
      "    <div class=\"board-item-main\">\n",
      "      <div class=\"board-item-content\">\n",
      "              <div class=\"movie-item-info\">\n",
      "        <p class=\"name\"><a href=\"/films/337058\" title=\"不期而遇\" data-act=\"boarditem-click\" data-val=\"{movieId:337058}\">不期而遇</a></p>\n",
      "        <p class=\"star\">\n",
      "                主演：张雨绮,张亮,王少雍\n",
      "        </p>\n",
      "<p class=\"releasetime\">上映时间：2017-05-19</p>    </div>\n",
      "    <div class=\"movie-item-number score-num\">\n",
      "<p class=\"score\"><i class=\"integer\">7.</i><i class=\"fraction\">9</i></p>        \n",
      "    </div>\n",
      "\n",
      "      </div>\n",
      "    </div>\n",
      "\n",
      "                </dd>\n",
      "                <dd>\n",
      "                        <i class=\"board-index board-index-8\">8</i>\n",
      "    <a href=\"/films/344809\" title=\"美容针\" class=\"image-link\" data-act=\"boarditem-click\" data-val=\"{movieId:344809}\">\n",
      "      <img src=\"//s3plus.meituan.net/v1/mss_e2821d7f0cfe4ac1bf9202ecf9590e67/cdn-prod/file:5788b470/image/loading_2.e3d934bf.png\" alt=\"\" class=\"poster-default\" />\n",
      "      <img data-src=\"https://p1.meituan.net/movie/9e6e0bc2f5367214b88fbbadb3d85145486469.jpg@160w_220h_1e_1c\" alt=\"美容针\" class=\"board-img\" />\n",
      "    </a>\n",
      "    <div class=\"board-item-main\">\n",
      "      <div class=\"board-item-content\">\n",
      "              <div class=\"movie-item-info\">\n",
      "        <p class=\"name\"><a href=\"/films/344809\" title=\"美容针\" data-act=\"boarditem-click\" data-val=\"{movieId:344809}\">美容针</a></p>\n",
      "        <p class=\"star\">\n",
      "                主演：闫妮,杜天皓,宋伊人\n",
      "        </p>\n",
      "<p class=\"releasetime\">上映时间：2017-05-20</p>    </div>\n",
      "    <div class=\"movie-item-number score-num\">\n",
      "<p class=\"score\"><i class=\"integer\">7.</i><i class=\"fraction\">9</i></p>        \n",
      "    </div>\n",
      "\n",
      "      </div>\n",
      "    </div>\n",
      "\n",
      "                </dd>\n",
      "                <dd>\n",
      "                        <i class=\"board-index board-index-9\">9</i>\n",
      "    <a href=\"/films/1301459\" title=\"海林都\" class=\"image-link\" data-act=\"boarditem-click\" data-val=\"{movieId:1301459}\">\n",
      "      <img src=\"//s3plus.meituan.net/v1/mss_e2821d7f0cfe4ac1bf9202ecf9590e67/cdn-prod/file:5788b470/image/loading_2.e3d934bf.png\" alt=\"\" class=\"poster-default\" />\n",
      "      <img data-src=\"https://p0.meituan.net/moviemachine/f222062948e495a1acff768fe7fa5b0f2377507.jpg@160w_220h_1e_1c\" alt=\"海林都\" class=\"board-img\" />\n",
      "    </a>\n",
      "    <div class=\"board-item-main\">\n",
      "      <div class=\"board-item-content\">\n",
      "              <div class=\"movie-item-info\">\n",
      "        <p class=\"name\"><a href=\"/films/1301459\" title=\"海林都\" data-act=\"boarditem-click\" data-val=\"{movieId:1301459}\">海林都</a></p>\n",
      "        <p class=\"star\">\n",
      "                主演：图门巴雅尔,高伊罕,安赫尼玛\n",
      "        </p>\n",
      "<p class=\"releasetime\">上映时间：2019-11-21</p>    </div>\n",
      "    <div class=\"movie-item-number score-num\">\n",
      "        \n",
      "    </div>\n",
      "\n",
      "      </div>\n",
      "    </div>\n",
      "\n",
      "                </dd>\n",
      "                <dd>\n",
      "                        <i class=\"board-index board-index-10\">10</i>\n",
      "    <a href=\"/films/1263827\" title=\"魔镜奇缘3\" class=\"image-link\" data-act=\"boarditem-click\" data-val=\"{movieId:1263827}\">\n",
      "      <img src=\"//s3plus.meituan.net/v1/mss_e2821d7f0cfe4ac1bf9202ecf9590e67/cdn-prod/file:5788b470/image/loading_2.e3d934bf.png\" alt=\"\" class=\"poster-default\" />\n",
      "      <img data-src=\"https://p0.meituan.net/moviemachine/e0972e696b0f1125e9f674d56074202c4946408.jpg@160w_220h_1e_1c\" alt=\"魔镜奇缘3\" class=\"board-img\" />\n",
      "    </a>\n",
      "    <div class=\"board-item-main\">\n",
      "      <div class=\"board-item-content\">\n",
      "              <div class=\"movie-item-info\">\n",
      "        <p class=\"name\"><a href=\"/films/1263827\" title=\"魔镜奇缘3\" data-act=\"boarditem-click\" data-val=\"{movieId:1263827}\">魔镜奇缘3</a></p>\n",
      "        <p class=\"star\">\n",
      "                主演：苏旖旎,王兴康,崔志昂\n",
      "        </p>\n",
      "<p class=\"releasetime\">上映时间：2019-12-14</p>    </div>\n",
      "    <div class=\"movie-item-number score-num\">\n",
      "        \n",
      "    </div>\n",
      "\n",
      "      </div>\n",
      "    </div>\n",
      "\n",
      "                </dd>\n",
      "            </dl>\n",
      "\n",
      "        </div>\n",
      "    </div>\n",
      "</div>\n",
      "\n",
      "    </div>\n",
      "\n",
      "<div class=\"footer\">\n",
      "  <p class=\"friendly-links\">\n",
      "    关于猫眼 :\n",
      "    <a href=\"http://ir.maoyan.com/s/index.php#pageScroll0\" target=\"_blank\">关于我们</a>\n",
      "    <span></span>\n",
      "    <a href=\"http://ir.maoyan.com/s/index.php#pageScroll1\" target=\"_blank\">管理团队</a>\n",
      "    <span></span>\n",
      "    <a href=\"http://ir.maoyan.com/s/index.php#pageScroll2\" target=\"_blank\">投资者关系</a>\n",
      "    &nbsp;&nbsp;&nbsp;&nbsp;\n",
      "    友情链接 :\n",
      "    <a href=\"http://www.meituan.com\" data-query=\"utm_source=wwwmaoyan\" target=\"_blank\">美团网</a>\n",
      "    <span></span>\n",
      "    <a href=\"http://www.gewara.com\" data-query=\"utm_source=wwwmaoyan\">格瓦拉</a>\n",
      "    <span></span>\n",
      "    <a href=\"http://i.meituan.com/client\" data-query=\"utm_source=wwwmaoyan\" target=\"_blank\">美团下载</a>\n",
      "    <span></span>\n",
      "    <a href=\"https://www.huanxi.com\" data-query=\"utm_source=maoyan_pc\" target=\"_blank\">欢喜首映</a>\n",
      "  </p>\n",
      "  <p class=\"friendly-links\">\n",
      "    商务合作邮箱：v@maoyan.com\n",
      "    客服电话：10105335\n",
      "    违法和不良信息举报电话：4006018900\n",
      "  </p>\n",
      "  <p class=\"friendly-links\">\n",
      "    用户投诉邮箱：tousujubao@meituan.com\n",
      "    舞弊线索举报邮箱：wubijubao@maoyan.com\n",
      "  </p>\n",
      "  <p class=\"friendly-links  credentials\">\n",
      "    <a href=\"/about/licence/1\" target=\"_blank\">中华人民共和国增值电信业务经营许可证 京B2-20190350</a>\n",
      "    <span></span>\n",
      "    <a href=\"/about/licence/4\" target=\"_blank\">营业性演出许可证 京演（机构）（2019）4094号</a>\n",
      "  </p>\n",
      "  <p class=\"friendly-links  credentials\">\n",
      "    <a href=\"/about/licence/3\" target=\"_blank\">广播电视节目制作经营许可证 （京）字第08478号</a>\n",
      "    <span></span>\n",
      "    <a href=\"/about/licence/2\" target=\"_blank\">网络文化经营许可证 京网文（2019）3837-369号 </a>\n",
      "  </p>\n",
      "  <p class=\"friendly-links  credentials\">\n",
      "    <a href=\"/rules/agreement\" target=\"_blank\">猫眼用户服务协议 </a>\n",
      "    <span></span>\n",
      "    <a href=\"/rules/rule\" target=\"_blank\">猫眼平台交易规则总则 </a>\n",
      "    <span></span>\n",
      "    <a href=\"/rules/privacy\" target=\"_blank\">隐私政策 </a>\n",
      "  </p>\n",
      "  <p class=\"friendly-links  credentials\">\n",
      "    <a href=\"http://www.beian.gov.cn/portal/registerSystemInfo?recordcode=11010102003232\" target=\"_blank\">京公网安备\n",
      "      11010102003232号</a>\n",
      "    <span></span>\n",
      "    <a href=\"http://www.beian.miit.gov.cn/\" target=\"_blank\">京ICP备16022489号</a>\n",
      "  </p>\n",
      "  <p>北京猫眼文化传媒有限公司</p>\n",
      "  <p>\n",
      "    &copy;<span class=\"my-footer-year\">2016</span>\n",
      "    猫眼电影 maoyan.com</p>\n",
      "  <div class=\"certificate\">\n",
      "    <a href=\"http://sq.ccm.gov.cn:80/ccnt/sczr/service/business/emark/toDetail/350CF8BCA8416C4FE0530140A8C0957E\"\n",
      "      target=\"_blank\">\n",
      "      <img src=\"http://p0.meituan.net/moviemachine/e54374ccf134d1f7b2c5b075a74fca525326.png\" />\n",
      "    </a>\n",
      "    <a href=\"/about/licence/5\" target=\"_blank\">\n",
      "      <img src=\"http://p1.meituan.net/moviemachine/805f605d5cf1b1a02a4e3a5e29df003b8376.png\" />\n",
      "    </a>\n",
      "  </div>\n",
      "</div>\n",
      "\n",
      "    <script crossorigin=\"anonymous\" src=\"//www.dpfile.com/app/owl/static/owl_1.7.11.js\"></script>\n",
      "    <script>\n",
      "      Owl.start({\n",
      "        project: 'com.sankuai.movie.fe.mywww',\n",
      "        pageUrl: location.href.split('?')[0].replace(/\\/\\d+/g, '/:id'),\n",
      "        devMode: false\n",
      "      })\n",
      "    </script>\n",
      "    <script src=\"//s0.meituan.net/bs/?f=myfe/canary:mojo-0.1.2.js\"></script>\n",
      "    <script>\n",
      "      MAInit({\n",
      "        appkey: 'com.sankuai.movie.fe.mywww',\n",
      "        app_name: 'maoyan-pc-web',\n",
      "        app_version: '1.0.0',\n",
      "      })\n",
      "    </script>\n",
      "    <!--[if IE 8]><script crossorigin=\"anonymous\" src=\"//s3plus.meituan.net/v1/mss_e2821d7f0cfe4ac1bf9202ecf9590e67/cdn-prod/file:5788b470/es5-shim.bbad933f.js\"></script><![endif]-->\n",
      "    <!--[if IE 8]><script crossorigin=\"anonymous\" src=\"//s3plus.meituan.net/v1/mss_e2821d7f0cfe4ac1bf9202ecf9590e67/cdn-prod/file:5788b470/es5-sham.d6ea26f4.js\"></script><![endif]-->\n",
      "    <script crossorigin=\"anonymous\" src=\"//s3plus.meituan.net/v1/mss_e2821d7f0cfe4ac1bf9202ecf9590e67/cdn-prod/file:5788b470/common.149bacf5.js\"></script>\n",
      "<script crossorigin=\"anonymous\" src=\"//s3plus.meituan.net/v1/mss_e2821d7f0cfe4ac1bf9202ecf9590e67/cdn-prod/file:5788b470/board-index.e144d497.js\"></script>\n",
      "</body>\n",
      "</html>\n",
      "\n"
     ]
    }
   ],
   "source": [
    "print(res.text)\n",
    "html=res.text"
   ]
  },
  {
   "cell_type": "code",
   "execution_count": 23,
   "metadata": {},
   "outputs": [],
   "source": [
    "#使用CSS解析"
   ]
  },
  {
   "cell_type": "code",
   "execution_count": 41,
   "metadata": {},
   "outputs": [
    {
     "name": "stdout",
     "output_type": "stream",
     "text": [
      "<!DOCTYPE html>\n",
      "<!--[if IE 8]><html class=\"ie8\"><![endif]--><!--[if IE 9]><html class=\"ie9\"><![endif]--><!--[if gt IE 9]><!--><html><!--<![endif]-->\n",
      "<head>\n",
      "<title>热映口碑榜 - 猫眼电影 - 一网打尽好电影</title>\n",
      "<link href=\"//p0.meituan.net\" rel=\"dns-prefetch\"/>\n",
      "<link href=\"//p1.meituan.net\" rel=\"dns-prefetch\"/>\n",
      "<link href=\"//ms0.meituan.net\" rel=\"dns-prefetch\"/>\n",
      "<link href=\"//s0.meituan.net\" rel=\"dns-prefetch\"/>\n",
      "<link href=\"//ms1.meituan.net\" rel=\"dns-prefetch\"/>\n",
      "<link href=\"//analytics.meituan.com\" rel=\"dns-prefetch\"/>\n",
      "<link href=\"//report.meituan.com\" rel=\"dns-prefetch\"/>\n",
      "<link href=\"//frep.meituan.com\" rel=\"dns-prefetch\"/>\n",
      "<meta charset=\"utf-8\"/>\n",
      "<meta content=\"猫眼电影,电影排行榜,热映口碑榜,最受期待榜,国内票房榜,北美票房榜,猫眼TOP100\" name=\"keywords\"/>\n",
      "<meta content=\"猫眼电影热门榜单,包括热映口碑榜,最受期待榜,国内票房榜,北美票房榜,猫眼TOP100,多维度为用户进行选片决策\" name=\"description\"/>\n",
      "<meta content=\"yes\" http-equiv=\"cleartype\"/>\n",
      "<meta content=\"IE=edge\" http-equiv=\"X-UA-Compatible\"/>\n",
      "<meta content=\"webkit\" name=\"renderer\"/>\n",
      "<meta content=\"true\" name=\"HandheldFriendly\"/>\n",
      "<meta content=\"email=no\" name=\"format-detection\"/>\n",
      "<meta content=\"telephone=no\" name=\"format-detection\"/>\n",
      "<meta content=\"width=device-width, initial-scale=1\" name=\"viewport\"/>\n",
      "<script>\"use strict\";!function(){var i=0<arguments.length&&void 0!==arguments[0]?arguments[0]:\"_Owl_\",n=window;n[i]||(n[i]={isRunning:!1,isReady:!1,preTasks:[],dataSet:[],use:function(i,t){this.isReady&&n.Owl&&n.Owl[i](t),this.preTasks.push({api:i,data:[t]})},add:function(i){this.dataSet.push(i)},run:function(){var t=this;if(!this.isRunning){this.isRunning=!0;var i=n.onerror;n.onerror=function(){this.isReady||this.add({type:\"jsError\",data:arguments}),i&&i.apply(n,arguments)}.bind(this),(n.addEventListener||n.attachEvent)(\"error\",function(i){t.isReady||t.add({type:\"resError\",data:[i]})},!0)}}},n[i].run())}();</script>\n",
      "<script>\n",
      "  cid = \"c_wx6zb55\";\n",
      "  ci = 42;\n",
      "val = {\"subnavId\":7};    window.system = {};\n",
      "\n",
      "  window.openPlatform = '';\n",
      "  window.openPlatformSub = '';\n",
      "  window.$mtsiFlag = '0';\n",
      "\n",
      "  </script>\n",
      "<link href=\"//s3plus.meituan.net/v1/mss_e2821d7f0cfe4ac1bf9202ecf9590e67/cdn-prod/file:5788b470/common.d1d257d3.css\" rel=\"stylesheet\"/>\n",
      "<link href=\"//s3plus.meituan.net/v1/mss_e2821d7f0cfe4ac1bf9202ecf9590e67/cdn-prod/file:5788b470/board-index.92a06072.css\" rel=\"stylesheet\"/>\n",
      "<script crossorigin=\"anonymous\" src=\"//s3plus.meituan.net/v1/mss_e2821d7f0cfe4ac1bf9202ecf9590e67/cdn-prod/file:5788b470/stat.88d57c80.js\"></script>\n",
      "<script>if(window.devicePixelRatio >= 2) { document.write('<link rel=\"stylesheet\" href=\"//s3plus.meituan.net/v1/mss_e2821d7f0cfe4ac1bf9202ecf9590e67/cdn-prod/file:5788b470/image-2x.8ba7074d.css\"/>') }</script>\n",
      "<style>\n",
      "    @font-face {\n",
      "      font-family: stonefont;\n",
      "      src: url('//vfile.meituan.net/colorstone/40b5a14a8cb1d8f916e8aabf6f6dd3323424.eot');\n",
      "      src: url('//vfile.meituan.net/colorstone/40b5a14a8cb1d8f916e8aabf6f6dd3323424.eot?#iefix') format('embedded-opentype'),\n",
      "           url('//vfile.meituan.net/colorstone/0adaf21a4d028dbdafd6bcb3926072242284.woff') format('woff');\n",
      "    }\n",
      "\n",
      "    .stonefont {\n",
      "      font-family: stonefont;\n",
      "    }\n",
      "  </style>\n",
      "<script>\n",
      "  var _hmt = _hmt || [];\n",
      "  (function() {\n",
      "  var hm = document.createElement(\"script\");\n",
      "  hm.src = \"https://hm.baidu.com/hm.js?703e94591e87be68cc8da0da7cbd0be2\";\n",
      "  var s = document.getElementsByTagName(\"script\")[0];\n",
      "  s.parentNode.insertBefore(hm, s);\n",
      "  })();\n",
      "  </script>\n",
      "</head>\n",
      "<body>\n",
      "<div class=\"header\">\n",
      "<div class=\"header-inner\">\n",
      "<a class=\"logo\" data-act=\"icon-click\" href=\"//maoyan.com\"></a>\n",
      "<div class=\"city-container\" data-val=\"{currentcityid:42 }\">\n",
      "<div class=\"city-selected\">\n",
      "<div class=\"city-name\">\n",
      "                  西安\n",
      "                  <span class=\"caret\"></span>\n",
      "</div>\n",
      "</div>\n",
      "<div class=\"city-list\" data-val=\"{ localcityid: 42 }\">\n",
      "<div class=\"city-list-header\">定位城市：<a class=\"js-geo-city\" data-ci=\"42\">西安</a></div>\n",
      "</div>\n",
      "</div>\n",
      "<div class=\"nav\">\n",
      "<ul class=\"navbar\">\n",
      "<li><a data-act=\"home-click\" href=\"/\">首页</a></li>\n",
      "<li><a data-act=\"movies-click\" href=\"/films\">电影</a></li>\n",
      "<li><a data-act=\"cinemas-click\" href=\"/cinemas\">影院</a></li>\n",
      "<li><a href=\"http://www.gewara.com\">演出</a></li>\n",
      "<li><a class=\"active\" data-act=\"board-click\" href=\"/board\">榜单</a></li>\n",
      "<li><a data-act=\"hotNews-click\" href=\"/news\">热点</a></li>\n",
      "<li><a href=\"/edimall\">商城</a></li>\n",
      "</ul>\n",
      "</div>\n",
      "<div class=\"user-info\">\n",
      "<div class=\"user-avatar J-login\">\n",
      "<img src=\"https://p0.meituan.net/movie/7dd82a16316ab32c8359debdb04396ef2897.png\"/>\n",
      "<span class=\"caret\"></span>\n",
      "<ul class=\"user-menu no-login-menu\">\n",
      "<li><a href=\"javascript:void 0\">登录</a></li>\n",
      "</ul>\n",
      "</div>\n",
      "</div>\n",
      "<form action=\"/query\" class=\"search-form\" data-actform=\"search-click\" target=\"_blank\">\n",
      "<input autocomplete=\"off\" class=\"search\" maxlength=\"32\" name=\"kw\" placeholder=\"找影视剧、影人、影院\" type=\"search\"/>\n",
      "<input class=\"submit\" type=\"submit\" value=\"\"/>\n",
      "</form>\n",
      "<div class=\"app-download\">\n",
      "<a href=\"/app\" target=\"_blank\">\n",
      "<span class=\"iphone-icon\"></span>\n",
      "<span class=\"apptext\">APP下载</span>\n",
      "<span class=\"caret\"></span>\n",
      "<div class=\"download-icon\">\n",
      "<p class=\"down-title\">扫码下载APP</p>\n",
      "<p class=\"down-content\">选座更优惠</p>\n",
      "</div>\n",
      "</a>\n",
      "</div>\n",
      "</div>\n",
      "</div>\n",
      "<div class=\"header-placeholder\"></div>\n",
      "<div class=\"subnav\">\n",
      "<ul class=\"navbar\">\n",
      "<li>\n",
      "<a class=\"active\" data-act=\"subnav-click\" data-state-val=\"{subnavId:7}\" data-val=\"{subnavClick:7}\" href=\"javascript:void(0);\">热映口碑榜</a>\n",
      "</li>\n",
      "<li>\n",
      "<a data-act=\"subnav-click\" data-val=\"{subnavClick:6}\" href=\"/board/6\">最受期待榜</a>\n",
      "</li>\n",
      "<li>\n",
      "<a data-act=\"subnav-click\" data-val=\"{subnavClick:1}\" href=\"/board/1\">国内票房榜</a>\n",
      "</li>\n",
      "<li>\n",
      "<a data-act=\"subnav-click\" data-val=\"{subnavClick:2}\" href=\"/board/2\">北美票房榜</a>\n",
      "</li>\n",
      "<li>\n",
      "<a data-act=\"subnav-click\" data-val=\"{subnavClick:4}\" href=\"/board/4\">TOP100榜</a>\n",
      "</li>\n",
      "</ul>\n",
      "</div>\n",
      "<div class=\"container\" id=\"app\">\n",
      "<div class=\"content\">\n",
      "<div class=\"wrapper\">\n",
      "<div class=\"main\">\n",
      "<p class=\"update-time\">2020-04-09<span class=\"has-fresh-text\">已更新</span></p>\n",
      "<p class=\"board-content\">榜单规则：将昨日国内热映的影片，按照评分从高到低排列取前10名，每天上午10点更新。相关数据来源于“猫眼专业版”及“猫眼电影库”。</p>\n",
      "<dl class=\"board-wrapper\">\n",
      "<dd>\n",
      "<i class=\"board-index board-index-1\">1</i>\n",
      "<a class=\"image-link\" data-act=\"boarditem-click\" data-val=\"{movieId:1277939}\" href=\"/films/1277939\" title=\"我和我的祖国\">\n",
      "<img alt=\"\" class=\"poster-default\" src=\"//s3plus.meituan.net/v1/mss_e2821d7f0cfe4ac1bf9202ecf9590e67/cdn-prod/file:5788b470/image/loading_2.e3d934bf.png\"/>\n",
      "<img alt=\"我和我的祖国\" class=\"board-img\" data-src=\"https://p0.meituan.net/moviemachine/b2c5c74d33e45745fd3462e44b3698e18336620.jpg@160w_220h_1e_1c\"/>\n",
      "</a>\n",
      "<div class=\"board-item-main\">\n",
      "<div class=\"board-item-content\">\n",
      "<div class=\"movie-item-info\">\n",
      "<p class=\"name\"><a data-act=\"boarditem-click\" data-val=\"{movieId:1277939}\" href=\"/films/1277939\" title=\"我和我的祖国\">我和我的祖国</a></p>\n",
      "<p class=\"star\">\n",
      "                主演：黄渤,张译,韩昊霖\n",
      "        </p>\n",
      "<p class=\"releasetime\">上映时间：2019-09-30</p> </div>\n",
      "<div class=\"movie-item-number score-num\">\n",
      "<p class=\"score\"><i class=\"integer\">9.</i><i class=\"fraction\">7</i></p>\n",
      "</div>\n",
      "</div>\n",
      "</div>\n",
      "</dd>\n",
      "<dd>\n",
      "<i class=\"board-index board-index-2\">2</i>\n",
      "<a class=\"image-link\" data-act=\"boarditem-click\" data-val=\"{movieId:1190122}\" href=\"/films/1190122\" title=\"叶问4：完结篇\">\n",
      "<img alt=\"\" class=\"poster-default\" src=\"//s3plus.meituan.net/v1/mss_e2821d7f0cfe4ac1bf9202ecf9590e67/cdn-prod/file:5788b470/image/loading_2.e3d934bf.png\"/>\n",
      "<img alt=\"叶问4：完结篇\" class=\"board-img\" data-src=\"https://p0.meituan.net/movie/a3d6ca3bdd5b0ddd7016acff9a9f2f2e2805813.jpg@160w_220h_1e_1c\"/>\n",
      "</a>\n",
      "<div class=\"board-item-main\">\n",
      "<div class=\"board-item-content\">\n",
      "<div class=\"movie-item-info\">\n",
      "<p class=\"name\"><a data-act=\"boarditem-click\" data-val=\"{movieId:1190122}\" href=\"/films/1190122\" title=\"叶问4：完结篇\">叶问4：完结篇</a></p>\n",
      "<p class=\"star\">\n",
      "                主演：甄子丹,吴樾,吴建豪\n",
      "        </p>\n",
      "<p class=\"releasetime\">上映时间：2019-12-20</p> </div>\n",
      "<div class=\"movie-item-number score-num\">\n",
      "<p class=\"score\"><i class=\"integer\">9.</i><i class=\"fraction\">4</i></p>\n",
      "</div>\n",
      "</div>\n",
      "</div>\n",
      "</dd>\n",
      "<dd>\n",
      "<i class=\"board-index board-index-3\">3</i>\n",
      "<a class=\"image-link\" data-act=\"boarditem-click\" data-val=\"{movieId:416}\" href=\"/films/416\" title=\"盗梦空间\">\n",
      "<img alt=\"\" class=\"poster-default\" src=\"//s3plus.meituan.net/v1/mss_e2821d7f0cfe4ac1bf9202ecf9590e67/cdn-prod/file:5788b470/image/loading_2.e3d934bf.png\"/>\n",
      "<img alt=\"盗梦空间\" class=\"board-img\" data-src=\"https://p1.meituan.net/movie/d40efe1183f29d5900f5c60be3c8a89d339225.jpg@160w_220h_1e_1c\"/>\n",
      "</a>\n",
      "<div class=\"board-item-main\">\n",
      "<div class=\"board-item-content\">\n",
      "<div class=\"movie-item-info\">\n",
      "<p class=\"name\"><a data-act=\"boarditem-click\" data-val=\"{movieId:416}\" href=\"/films/416\" title=\"盗梦空间\">盗梦空间</a></p>\n",
      "<p class=\"star\">\n",
      "                主演：莱昂纳多·迪卡普里奥,渡边谦,约瑟夫·高登-莱维特\n",
      "        </p>\n",
      "<p class=\"releasetime\">上映时间：2010-09-01</p> </div>\n",
      "<div class=\"movie-item-number score-num\">\n",
      "<p class=\"score\"><i class=\"integer\">9.</i><i class=\"fraction\">2</i></p>\n",
      "</div>\n",
      "</div>\n",
      "</div>\n",
      "</dd>\n",
      "<dd>\n",
      "<i class=\"board-index board-index-4\">4</i>\n",
      "<a class=\"image-link\" data-act=\"boarditem-click\" data-val=\"{movieId:1279731}\" href=\"/films/1279731\" title=\"宠爱\">\n",
      "<img alt=\"\" class=\"poster-default\" src=\"//s3plus.meituan.net/v1/mss_e2821d7f0cfe4ac1bf9202ecf9590e67/cdn-prod/file:5788b470/image/loading_2.e3d934bf.png\"/>\n",
      "<img alt=\"宠爱\" class=\"board-img\" data-src=\"https://p0.meituan.net/moviemachine/36eda496688542263d9a0f02ac728327823369.jpg@160w_220h_1e_1c\"/>\n",
      "</a>\n",
      "<div class=\"board-item-main\">\n",
      "<div class=\"board-item-content\">\n",
      "<div class=\"movie-item-info\">\n",
      "<p class=\"name\"><a data-act=\"boarditem-click\" data-val=\"{movieId:1279731}\" href=\"/films/1279731\" title=\"宠爱\">宠爱</a></p>\n",
      "<p class=\"star\">\n",
      "                主演：于和伟,吴磊,张子枫\n",
      "        </p>\n",
      "<p class=\"releasetime\">上映时间：2019-12-31</p> </div>\n",
      "<div class=\"movie-item-number score-num\">\n",
      "<p class=\"score\"><i class=\"integer\">8.</i><i class=\"fraction\">9</i></p>\n",
      "</div>\n",
      "</div>\n",
      "</div>\n",
      "</dd>\n",
      "<dd>\n",
      "<i class=\"board-index board-index-5\">5</i>\n",
      "<a class=\"image-link\" data-act=\"boarditem-click\" data-val=\"{movieId:1256872}\" href=\"/films/1256872\" title=\"为国而歌\">\n",
      "<img alt=\"\" class=\"poster-default\" src=\"//s3plus.meituan.net/v1/mss_e2821d7f0cfe4ac1bf9202ecf9590e67/cdn-prod/file:5788b470/image/loading_2.e3d934bf.png\"/>\n",
      "<img alt=\"为国而歌\" class=\"board-img\" data-src=\"https://p0.meituan.net/movie/db82e48befc1c7e2e98425165b2500d76222872.jpg@160w_220h_1e_1c\"/>\n",
      "</a>\n",
      "<div class=\"board-item-main\">\n",
      "<div class=\"board-item-content\">\n",
      "<div class=\"movie-item-info\">\n",
      "<p class=\"name\"><a data-act=\"boarditem-click\" data-val=\"{movieId:1256872}\" href=\"/films/1256872\" title=\"为国而歌\">为国而歌</a></p>\n",
      "<p class=\"star\">\n",
      "                主演：王雷,古力娜扎,海一天\n",
      "        </p>\n",
      "<p class=\"releasetime\">上映时间：2019-10-18</p> </div>\n",
      "<div class=\"movie-item-number score-num\">\n",
      "<p class=\"score\"><i class=\"integer\">8.</i><i class=\"fraction\">9</i></p>\n",
      "</div>\n",
      "</div>\n",
      "</div>\n",
      "</dd>\n",
      "<dd>\n",
      "<i class=\"board-index board-index-6\">6</i>\n",
      "<a class=\"image-link\" data-act=\"boarditem-click\" data-val=\"{movieId:78003}\" href=\"/films/78003\" title=\"西游·降魔篇\">\n",
      "<img alt=\"\" class=\"poster-default\" src=\"//s3plus.meituan.net/v1/mss_e2821d7f0cfe4ac1bf9202ecf9590e67/cdn-prod/file:5788b470/image/loading_2.e3d934bf.png\"/>\n",
      "<img alt=\"西游·降魔篇\" class=\"board-img\" data-src=\"https://p1.meituan.net/movie/bbece4ae764b9b9661655e54ce0347d6276411.jpg@160w_220h_1e_1c\"/>\n",
      "</a>\n",
      "<div class=\"board-item-main\">\n",
      "<div class=\"board-item-content\">\n",
      "<div class=\"movie-item-info\">\n",
      "<p class=\"name\"><a data-act=\"boarditem-click\" data-val=\"{movieId:78003}\" href=\"/films/78003\" title=\"西游·降魔篇\">西游·降魔篇</a></p>\n",
      "<p class=\"star\">\n",
      "                主演：舒淇,文章,黄渤\n",
      "        </p>\n",
      "<p class=\"releasetime\">上映时间：2013-02-10</p> </div>\n",
      "<div class=\"movie-item-number score-num\">\n",
      "<p class=\"score\"><i class=\"integer\">8.</i><i class=\"fraction\">4</i></p>\n",
      "</div>\n",
      "</div>\n",
      "</div>\n",
      "</dd>\n",
      "<dd>\n",
      "<i class=\"board-index board-index-7\">7</i>\n",
      "<a class=\"image-link\" data-act=\"boarditem-click\" data-val=\"{movieId:337058}\" href=\"/films/337058\" title=\"不期而遇\">\n",
      "<img alt=\"\" class=\"poster-default\" src=\"//s3plus.meituan.net/v1/mss_e2821d7f0cfe4ac1bf9202ecf9590e67/cdn-prod/file:5788b470/image/loading_2.e3d934bf.png\"/>\n",
      "<img alt=\"不期而遇\" class=\"board-img\" data-src=\"https://p0.meituan.net/movie/716fd3706814984a384be50e9c6d3058187208.jpg@160w_220h_1e_1c\"/>\n",
      "</a>\n",
      "<div class=\"board-item-main\">\n",
      "<div class=\"board-item-content\">\n",
      "<div class=\"movie-item-info\">\n",
      "<p class=\"name\"><a data-act=\"boarditem-click\" data-val=\"{movieId:337058}\" href=\"/films/337058\" title=\"不期而遇\">不期而遇</a></p>\n",
      "<p class=\"star\">\n",
      "                主演：张雨绮,张亮,王少雍\n",
      "        </p>\n",
      "<p class=\"releasetime\">上映时间：2017-05-19</p> </div>\n",
      "<div class=\"movie-item-number score-num\">\n",
      "<p class=\"score\"><i class=\"integer\">7.</i><i class=\"fraction\">9</i></p>\n",
      "</div>\n",
      "</div>\n",
      "</div>\n",
      "</dd>\n",
      "<dd>\n",
      "<i class=\"board-index board-index-8\">8</i>\n",
      "<a class=\"image-link\" data-act=\"boarditem-click\" data-val=\"{movieId:344809}\" href=\"/films/344809\" title=\"美容针\">\n",
      "<img alt=\"\" class=\"poster-default\" src=\"//s3plus.meituan.net/v1/mss_e2821d7f0cfe4ac1bf9202ecf9590e67/cdn-prod/file:5788b470/image/loading_2.e3d934bf.png\"/>\n",
      "<img alt=\"美容针\" class=\"board-img\" data-src=\"https://p1.meituan.net/movie/9e6e0bc2f5367214b88fbbadb3d85145486469.jpg@160w_220h_1e_1c\"/>\n",
      "</a>\n",
      "<div class=\"board-item-main\">\n",
      "<div class=\"board-item-content\">\n",
      "<div class=\"movie-item-info\">\n",
      "<p class=\"name\"><a data-act=\"boarditem-click\" data-val=\"{movieId:344809}\" href=\"/films/344809\" title=\"美容针\">美容针</a></p>\n",
      "<p class=\"star\">\n",
      "                主演：闫妮,杜天皓,宋伊人\n",
      "        </p>\n",
      "<p class=\"releasetime\">上映时间：2017-05-20</p> </div>\n",
      "<div class=\"movie-item-number score-num\">\n",
      "<p class=\"score\"><i class=\"integer\">7.</i><i class=\"fraction\">9</i></p>\n",
      "</div>\n",
      "</div>\n",
      "</div>\n",
      "</dd>\n",
      "<dd>\n",
      "<i class=\"board-index board-index-9\">9</i>\n",
      "<a class=\"image-link\" data-act=\"boarditem-click\" data-val=\"{movieId:1301459}\" href=\"/films/1301459\" title=\"海林都\">\n",
      "<img alt=\"\" class=\"poster-default\" src=\"//s3plus.meituan.net/v1/mss_e2821d7f0cfe4ac1bf9202ecf9590e67/cdn-prod/file:5788b470/image/loading_2.e3d934bf.png\"/>\n",
      "<img alt=\"海林都\" class=\"board-img\" data-src=\"https://p0.meituan.net/moviemachine/f222062948e495a1acff768fe7fa5b0f2377507.jpg@160w_220h_1e_1c\"/>\n",
      "</a>\n",
      "<div class=\"board-item-main\">\n",
      "<div class=\"board-item-content\">\n",
      "<div class=\"movie-item-info\">\n",
      "<p class=\"name\"><a data-act=\"boarditem-click\" data-val=\"{movieId:1301459}\" href=\"/films/1301459\" title=\"海林都\">海林都</a></p>\n",
      "<p class=\"star\">\n",
      "                主演：图门巴雅尔,高伊罕,安赫尼玛\n",
      "        </p>\n",
      "<p class=\"releasetime\">上映时间：2019-11-21</p> </div>\n",
      "<div class=\"movie-item-number score-num\">\n",
      "</div>\n",
      "</div>\n",
      "</div>\n",
      "</dd>\n",
      "<dd>\n",
      "<i class=\"board-index board-index-10\">10</i>\n",
      "<a class=\"image-link\" data-act=\"boarditem-click\" data-val=\"{movieId:1263827}\" href=\"/films/1263827\" title=\"魔镜奇缘3\">\n",
      "<img alt=\"\" class=\"poster-default\" src=\"//s3plus.meituan.net/v1/mss_e2821d7f0cfe4ac1bf9202ecf9590e67/cdn-prod/file:5788b470/image/loading_2.e3d934bf.png\"/>\n",
      "<img alt=\"魔镜奇缘3\" class=\"board-img\" data-src=\"https://p0.meituan.net/moviemachine/e0972e696b0f1125e9f674d56074202c4946408.jpg@160w_220h_1e_1c\"/>\n",
      "</a>\n",
      "<div class=\"board-item-main\">\n",
      "<div class=\"board-item-content\">\n",
      "<div class=\"movie-item-info\">\n",
      "<p class=\"name\"><a data-act=\"boarditem-click\" data-val=\"{movieId:1263827}\" href=\"/films/1263827\" title=\"魔镜奇缘3\">魔镜奇缘3</a></p>\n",
      "<p class=\"star\">\n",
      "                主演：苏旖旎,王兴康,崔志昂\n",
      "        </p>\n",
      "<p class=\"releasetime\">上映时间：2019-12-14</p> </div>\n",
      "<div class=\"movie-item-number score-num\">\n",
      "</div>\n",
      "</div>\n",
      "</div>\n",
      "</dd>\n",
      "</dl>\n",
      "</div>\n",
      "</div>\n",
      "</div>\n",
      "</div>\n",
      "<div class=\"footer\">\n",
      "<p class=\"friendly-links\">\n",
      "    关于猫眼 :\n",
      "    <a href=\"http://ir.maoyan.com/s/index.php#pageScroll0\" target=\"_blank\">关于我们</a>\n",
      "<span></span>\n",
      "<a href=\"http://ir.maoyan.com/s/index.php#pageScroll1\" target=\"_blank\">管理团队</a>\n",
      "<span></span>\n",
      "<a href=\"http://ir.maoyan.com/s/index.php#pageScroll2\" target=\"_blank\">投资者关系</a>\n",
      "        \n",
      "    友情链接 :\n",
      "    <a data-query=\"utm_source=wwwmaoyan\" href=\"http://www.meituan.com\" target=\"_blank\">美团网</a>\n",
      "<span></span>\n",
      "<a data-query=\"utm_source=wwwmaoyan\" href=\"http://www.gewara.com\">格瓦拉</a>\n",
      "<span></span>\n",
      "<a data-query=\"utm_source=wwwmaoyan\" href=\"http://i.meituan.com/client\" target=\"_blank\">美团下载</a>\n",
      "<span></span>\n",
      "<a data-query=\"utm_source=maoyan_pc\" href=\"https://www.huanxi.com\" target=\"_blank\">欢喜首映</a>\n",
      "</p>\n",
      "<p class=\"friendly-links\">\n",
      "    商务合作邮箱：v@maoyan.com\n",
      "    客服电话：10105335\n",
      "    违法和不良信息举报电话：4006018900\n",
      "  </p>\n",
      "<p class=\"friendly-links\">\n",
      "    用户投诉邮箱：tousujubao@meituan.com\n",
      "    舞弊线索举报邮箱：wubijubao@maoyan.com\n",
      "  </p>\n",
      "<p class=\"friendly-links credentials\">\n",
      "<a href=\"/about/licence/1\" target=\"_blank\">中华人民共和国增值电信业务经营许可证 京B2-20190350</a>\n",
      "<span></span>\n",
      "<a href=\"/about/licence/4\" target=\"_blank\">营业性演出许可证 京演（机构）（2019）4094号</a>\n",
      "</p>\n",
      "<p class=\"friendly-links credentials\">\n",
      "<a href=\"/about/licence/3\" target=\"_blank\">广播电视节目制作经营许可证 （京）字第08478号</a>\n",
      "<span></span>\n",
      "<a href=\"/about/licence/2\" target=\"_blank\">网络文化经营许可证 京网文（2019）3837-369号 </a>\n",
      "</p>\n",
      "<p class=\"friendly-links credentials\">\n",
      "<a href=\"/rules/agreement\" target=\"_blank\">猫眼用户服务协议 </a>\n",
      "<span></span>\n",
      "<a href=\"/rules/rule\" target=\"_blank\">猫眼平台交易规则总则 </a>\n",
      "<span></span>\n",
      "<a href=\"/rules/privacy\" target=\"_blank\">隐私政策 </a>\n",
      "</p>\n",
      "<p class=\"friendly-links credentials\">\n",
      "<a href=\"http://www.beian.gov.cn/portal/registerSystemInfo?recordcode=11010102003232\" target=\"_blank\">京公网安备\n",
      "      11010102003232号</a>\n",
      "<span></span>\n",
      "<a href=\"http://www.beian.miit.gov.cn/\" target=\"_blank\">京ICP备16022489号</a>\n",
      "</p>\n",
      "<p>北京猫眼文化传媒有限公司</p>\n",
      "<p>\n",
      "    ©<span class=\"my-footer-year\">2016</span>\n",
      "    猫眼电影 maoyan.com</p>\n",
      "<div class=\"certificate\">\n",
      "<a href=\"http://sq.ccm.gov.cn:80/ccnt/sczr/service/business/emark/toDetail/350CF8BCA8416C4FE0530140A8C0957E\" target=\"_blank\">\n",
      "<img src=\"http://p0.meituan.net/moviemachine/e54374ccf134d1f7b2c5b075a74fca525326.png\"/>\n",
      "</a>\n",
      "<a href=\"/about/licence/5\" target=\"_blank\">\n",
      "<img src=\"http://p1.meituan.net/moviemachine/805f605d5cf1b1a02a4e3a5e29df003b8376.png\"/>\n",
      "</a>\n",
      "</div>\n",
      "</div>\n",
      "<script crossorigin=\"anonymous\" src=\"//www.dpfile.com/app/owl/static/owl_1.7.11.js\"></script>\n",
      "<script>\n",
      "      Owl.start({\n",
      "        project: 'com.sankuai.movie.fe.mywww',\n",
      "        pageUrl: location.href.split('?')[0].replace(/\\/\\d+/g, '/:id'),\n",
      "        devMode: false\n",
      "      })\n",
      "    </script>\n",
      "<script src=\"//s0.meituan.net/bs/?f=myfe/canary:mojo-0.1.2.js\"></script>\n",
      "<script>\n",
      "      MAInit({\n",
      "        appkey: 'com.sankuai.movie.fe.mywww',\n",
      "        app_name: 'maoyan-pc-web',\n",
      "        app_version: '1.0.0',\n",
      "      })\n",
      "    </script>\n",
      "<!--[if IE 8]><script crossorigin=\"anonymous\" src=\"//s3plus.meituan.net/v1/mss_e2821d7f0cfe4ac1bf9202ecf9590e67/cdn-prod/file:5788b470/es5-shim.bbad933f.js\"></script><![endif]-->\n",
      "<!--[if IE 8]><script crossorigin=\"anonymous\" src=\"//s3plus.meituan.net/v1/mss_e2821d7f0cfe4ac1bf9202ecf9590e67/cdn-prod/file:5788b470/es5-sham.d6ea26f4.js\"></script><![endif]-->\n",
      "<script crossorigin=\"anonymous\" src=\"//s3plus.meituan.net/v1/mss_e2821d7f0cfe4ac1bf9202ecf9590e67/cdn-prod/file:5788b470/common.149bacf5.js\"></script>\n",
      "<script crossorigin=\"anonymous\" src=\"//s3plus.meituan.net/v1/mss_e2821d7f0cfe4ac1bf9202ecf9590e67/cdn-prod/file:5788b470/board-index.e144d497.js\"></script>\n",
      "</body>\n",
      "</html>\n",
      "\n"
     ]
    }
   ],
   "source": [
    "soup=BeautifulSoup(html,'lxml')\n",
    "print(soup)"
   ]
  },
  {
   "cell_type": "code",
   "execution_count": 44,
   "metadata": {},
   "outputs": [
    {
     "data": {
      "text/plain": [
       "[<p class=\"name\"><a data-act=\"boarditem-click\" data-val=\"{movieId:1277939}\" href=\"/films/1277939\" title=\"我和我的祖国\">我和我的祖国</a></p>,\n",
       " <p class=\"star\">\n",
       "                 主演：黄渤,张译,韩昊霖\n",
       "         </p>,\n",
       " <p class=\"releasetime\">上映时间：2019-09-30</p>,\n",
       " <p class=\"score\"><i class=\"integer\">9.</i><i class=\"fraction\">7</i></p>,\n",
       " <p class=\"name\"><a data-act=\"boarditem-click\" data-val=\"{movieId:1190122}\" href=\"/films/1190122\" title=\"叶问4：完结篇\">叶问4：完结篇</a></p>,\n",
       " <p class=\"star\">\n",
       "                 主演：甄子丹,吴樾,吴建豪\n",
       "         </p>,\n",
       " <p class=\"releasetime\">上映时间：2019-12-20</p>,\n",
       " <p class=\"score\"><i class=\"integer\">9.</i><i class=\"fraction\">4</i></p>,\n",
       " <p class=\"name\"><a data-act=\"boarditem-click\" data-val=\"{movieId:416}\" href=\"/films/416\" title=\"盗梦空间\">盗梦空间</a></p>,\n",
       " <p class=\"star\">\n",
       "                 主演：莱昂纳多·迪卡普里奥,渡边谦,约瑟夫·高登-莱维特\n",
       "         </p>,\n",
       " <p class=\"releasetime\">上映时间：2010-09-01</p>,\n",
       " <p class=\"score\"><i class=\"integer\">9.</i><i class=\"fraction\">2</i></p>,\n",
       " <p class=\"name\"><a data-act=\"boarditem-click\" data-val=\"{movieId:1279731}\" href=\"/films/1279731\" title=\"宠爱\">宠爱</a></p>,\n",
       " <p class=\"star\">\n",
       "                 主演：于和伟,吴磊,张子枫\n",
       "         </p>,\n",
       " <p class=\"releasetime\">上映时间：2019-12-31</p>,\n",
       " <p class=\"score\"><i class=\"integer\">8.</i><i class=\"fraction\">9</i></p>,\n",
       " <p class=\"name\"><a data-act=\"boarditem-click\" data-val=\"{movieId:1256872}\" href=\"/films/1256872\" title=\"为国而歌\">为国而歌</a></p>,\n",
       " <p class=\"star\">\n",
       "                 主演：王雷,古力娜扎,海一天\n",
       "         </p>,\n",
       " <p class=\"releasetime\">上映时间：2019-10-18</p>,\n",
       " <p class=\"score\"><i class=\"integer\">8.</i><i class=\"fraction\">9</i></p>,\n",
       " <p class=\"name\"><a data-act=\"boarditem-click\" data-val=\"{movieId:78003}\" href=\"/films/78003\" title=\"西游·降魔篇\">西游·降魔篇</a></p>,\n",
       " <p class=\"star\">\n",
       "                 主演：舒淇,文章,黄渤\n",
       "         </p>,\n",
       " <p class=\"releasetime\">上映时间：2013-02-10</p>,\n",
       " <p class=\"score\"><i class=\"integer\">8.</i><i class=\"fraction\">4</i></p>,\n",
       " <p class=\"name\"><a data-act=\"boarditem-click\" data-val=\"{movieId:337058}\" href=\"/films/337058\" title=\"不期而遇\">不期而遇</a></p>,\n",
       " <p class=\"star\">\n",
       "                 主演：张雨绮,张亮,王少雍\n",
       "         </p>,\n",
       " <p class=\"releasetime\">上映时间：2017-05-19</p>,\n",
       " <p class=\"score\"><i class=\"integer\">7.</i><i class=\"fraction\">9</i></p>,\n",
       " <p class=\"name\"><a data-act=\"boarditem-click\" data-val=\"{movieId:344809}\" href=\"/films/344809\" title=\"美容针\">美容针</a></p>,\n",
       " <p class=\"star\">\n",
       "                 主演：闫妮,杜天皓,宋伊人\n",
       "         </p>,\n",
       " <p class=\"releasetime\">上映时间：2017-05-20</p>,\n",
       " <p class=\"score\"><i class=\"integer\">7.</i><i class=\"fraction\">9</i></p>,\n",
       " <p class=\"name\"><a data-act=\"boarditem-click\" data-val=\"{movieId:1301459}\" href=\"/films/1301459\" title=\"海林都\">海林都</a></p>,\n",
       " <p class=\"star\">\n",
       "                 主演：图门巴雅尔,高伊罕,安赫尼玛\n",
       "         </p>,\n",
       " <p class=\"releasetime\">上映时间：2019-11-21</p>,\n",
       " <p class=\"name\"><a data-act=\"boarditem-click\" data-val=\"{movieId:1263827}\" href=\"/films/1263827\" title=\"魔镜奇缘3\">魔镜奇缘3</a></p>,\n",
       " <p class=\"star\">\n",
       "                 主演：苏旖旎,王兴康,崔志昂\n",
       "         </p>,\n",
       " <p class=\"releasetime\">上映时间：2019-12-14</p>]"
      ]
     },
     "execution_count": 44,
     "metadata": {},
     "output_type": "execute_result"
    }
   ],
   "source": [
    "soup.select('dd p')"
   ]
  },
  {
   "cell_type": "code",
   "execution_count": 50,
   "metadata": {},
   "outputs": [
    {
     "data": {
      "text/plain": [
       "[<a data-act=\"boarditem-click\" data-val=\"{movieId:1277939}\" href=\"/films/1277939\" title=\"我和我的祖国\">我和我的祖国</a>,\n",
       " <a data-act=\"boarditem-click\" data-val=\"{movieId:1190122}\" href=\"/films/1190122\" title=\"叶问4：完结篇\">叶问4：完结篇</a>,\n",
       " <a data-act=\"boarditem-click\" data-val=\"{movieId:416}\" href=\"/films/416\" title=\"盗梦空间\">盗梦空间</a>,\n",
       " <a data-act=\"boarditem-click\" data-val=\"{movieId:1279731}\" href=\"/films/1279731\" title=\"宠爱\">宠爱</a>,\n",
       " <a data-act=\"boarditem-click\" data-val=\"{movieId:1256872}\" href=\"/films/1256872\" title=\"为国而歌\">为国而歌</a>,\n",
       " <a data-act=\"boarditem-click\" data-val=\"{movieId:78003}\" href=\"/films/78003\" title=\"西游·降魔篇\">西游·降魔篇</a>,\n",
       " <a data-act=\"boarditem-click\" data-val=\"{movieId:337058}\" href=\"/films/337058\" title=\"不期而遇\">不期而遇</a>,\n",
       " <a data-act=\"boarditem-click\" data-val=\"{movieId:344809}\" href=\"/films/344809\" title=\"美容针\">美容针</a>,\n",
       " <a data-act=\"boarditem-click\" data-val=\"{movieId:1301459}\" href=\"/films/1301459\" title=\"海林都\">海林都</a>,\n",
       " <a data-act=\"boarditem-click\" data-val=\"{movieId:1263827}\" href=\"/films/1263827\" title=\"魔镜奇缘3\">魔镜奇缘3</a>]"
      ]
     },
     "execution_count": 50,
     "metadata": {},
     "output_type": "execute_result"
    }
   ],
   "source": [
    "soup.select('dd p a')#通过select嵌套选择出p节点，第一个电影的名字"
   ]
  },
  {
   "cell_type": "code",
   "execution_count": 53,
   "metadata": {},
   "outputs": [],
   "source": [
    "list1=[]\n",
    "for s in soup.select('dd p a'):\n",
    "    list1.append(s.string)"
   ]
  },
  {
   "cell_type": "code",
   "execution_count": 54,
   "metadata": {},
   "outputs": [
    {
     "data": {
      "text/plain": [
       "['我和我的祖国',\n",
       " '叶问4：完结篇',\n",
       " '盗梦空间',\n",
       " '宠爱',\n",
       " '为国而歌',\n",
       " '西游·降魔篇',\n",
       " '不期而遇',\n",
       " '美容针',\n",
       " '海林都',\n",
       " '魔镜奇缘3']"
      ]
     },
     "execution_count": 54,
     "metadata": {},
     "output_type": "execute_result"
    }
   ],
   "source": [
    "list1"
   ]
  },
  {
   "cell_type": "code",
   "execution_count": 27,
   "metadata": {},
   "outputs": [
    {
     "data": {
      "text/plain": [
       "[<p class=\"star\">\n",
       "                 主演：张国荣,张丰毅,巩俐\n",
       "         </p>, <p class=\"star\">\n",
       "                 主演：蒂姆·罗宾斯,摩根·弗里曼,鲍勃·冈顿\n",
       "         </p>, <p class=\"star\">\n",
       "                 主演：让·雷诺,加里·奥德曼,娜塔莉·波特曼\n",
       "         </p>, <p class=\"star\">\n",
       "                 主演：格利高里·派克,奥黛丽·赫本,埃迪·艾伯特\n",
       "         </p>, <p class=\"star\">\n",
       "                 主演：莱昂纳多·迪卡普里奥,凯特·温丝莱特,比利·赞恩\n",
       "         </p>, <p class=\"star\">\n",
       "                 主演：费雯·丽,克拉克·盖博,奥利维娅·德哈维兰\n",
       "         </p>, <p class=\"star\">\n",
       "                 主演：周星驰,巩俐,郑佩佩\n",
       "         </p>, <p class=\"star\">\n",
       "                 主演：费雯·丽,罗伯特·泰勒,露塞尔·沃特森\n",
       "         </p>, <p class=\"star\">\n",
       "                 主演：连姆·尼森,拉尔夫·费因斯,本·金斯利\n",
       "         </p>, <p class=\"star\">\n",
       "                 主演：周星驰,莫文蔚,张柏芝\n",
       "         </p>]"
      ]
     },
     "execution_count": 27,
     "metadata": {},
     "output_type": "execute_result"
    }
   ],
   "source": [
    "soup.select('.star')"
   ]
  },
  {
   "cell_type": "code",
   "execution_count": 28,
   "metadata": {},
   "outputs": [
    {
     "data": {
      "text/plain": [
       "'主演：张国荣,张丰毅,巩俐'"
      ]
     },
     "execution_count": 28,
     "metadata": {},
     "output_type": "execute_result"
    }
   ],
   "source": [
    "soup.select('.star')[0].string.strip()#可以直接利用‘.属性名’"
   ]
  },
  {
   "cell_type": "code",
   "execution_count": 29,
   "metadata": {},
   "outputs": [
    {
     "data": {
      "text/plain": [
       "'上映时间：1993-07-26'"
      ]
     },
     "execution_count": 29,
     "metadata": {},
     "output_type": "execute_result"
    }
   ],
   "source": [
    "soup.select('.releasetime')[0].string#提取出上映时间"
   ]
  },
  {
   "cell_type": "code",
   "execution_count": 30,
   "metadata": {},
   "outputs": [
    {
     "data": {
      "text/plain": [
       "'9.5'"
      ]
     },
     "execution_count": 30,
     "metadata": {},
     "output_type": "execute_result"
    }
   ],
   "source": [
    "soup.select('.score .integer')[0].string+soup.select('.score .fraction')[0].string#提取出评分"
   ]
  },
  {
   "cell_type": "code",
   "execution_count": 31,
   "metadata": {},
   "outputs": [
    {
     "data": {
      "text/plain": [
       "'{movieId:1203}'"
      ]
     },
     "execution_count": 31,
     "metadata": {},
     "output_type": "execute_result"
    }
   ],
   "source": [
    "soup.select('dd p a')[0]['data-val']#提取属性data-val"
   ]
  },
  {
   "cell_type": "code",
   "execution_count": 32,
   "metadata": {},
   "outputs": [],
   "source": [
    "#以上分析均为提取第一条信息"
   ]
  },
  {
   "cell_type": "code",
   "execution_count": 33,
   "metadata": {},
   "outputs": [
    {
     "name": "stdout",
     "output_type": "stream",
     "text": [
      "['霸王别姬']\n",
      "['霸王别姬', '肖申克的救赎']\n",
      "['霸王别姬', '肖申克的救赎', '这个杀手不太冷']\n",
      "['霸王别姬', '肖申克的救赎', '这个杀手不太冷', '罗马假日']\n",
      "['霸王别姬', '肖申克的救赎', '这个杀手不太冷', '罗马假日', '泰坦尼克号']\n",
      "['霸王别姬', '肖申克的救赎', '这个杀手不太冷', '罗马假日', '泰坦尼克号', '乱世佳人']\n",
      "['霸王别姬', '肖申克的救赎', '这个杀手不太冷', '罗马假日', '泰坦尼克号', '乱世佳人', '唐伯虎点秋香']\n",
      "['霸王别姬', '肖申克的救赎', '这个杀手不太冷', '罗马假日', '泰坦尼克号', '乱世佳人', '唐伯虎点秋香', '魂断蓝桥']\n",
      "['霸王别姬', '肖申克的救赎', '这个杀手不太冷', '罗马假日', '泰坦尼克号', '乱世佳人', '唐伯虎点秋香', '魂断蓝桥', '辛德勒的名单']\n",
      "['霸王别姬', '肖申克的救赎', '这个杀手不太冷', '罗马假日', '泰坦尼克号', '乱世佳人', '唐伯虎点秋香', '魂断蓝桥', '辛德勒的名单', '喜剧之王']\n"
     ]
    }
   ],
   "source": [
    "#解析所有的电影名\n",
    "title=[]\n",
    "for i in range(len(soup.select('dd p a'))):\n",
    "    title.append(soup.select('dd p a')[i].string)\n",
    "    print(title)"
   ]
  },
  {
   "cell_type": "code",
   "execution_count": 34,
   "metadata": {},
   "outputs": [
    {
     "name": "stdout",
     "output_type": "stream",
     "text": [
      "['主演：张国荣,张丰毅,巩俐']\n",
      "['主演：张国荣,张丰毅,巩俐', '主演：蒂姆·罗宾斯,摩根·弗里曼,鲍勃·冈顿']\n",
      "['主演：张国荣,张丰毅,巩俐', '主演：蒂姆·罗宾斯,摩根·弗里曼,鲍勃·冈顿', '主演：让·雷诺,加里·奥德曼,娜塔莉·波特曼']\n",
      "['主演：张国荣,张丰毅,巩俐', '主演：蒂姆·罗宾斯,摩根·弗里曼,鲍勃·冈顿', '主演：让·雷诺,加里·奥德曼,娜塔莉·波特曼', '主演：格利高里·派克,奥黛丽·赫本,埃迪·艾伯特']\n",
      "['主演：张国荣,张丰毅,巩俐', '主演：蒂姆·罗宾斯,摩根·弗里曼,鲍勃·冈顿', '主演：让·雷诺,加里·奥德曼,娜塔莉·波特曼', '主演：格利高里·派克,奥黛丽·赫本,埃迪·艾伯特', '主演：莱昂纳多·迪卡普里奥,凯特·温丝莱特,比利·赞恩']\n",
      "['主演：张国荣,张丰毅,巩俐', '主演：蒂姆·罗宾斯,摩根·弗里曼,鲍勃·冈顿', '主演：让·雷诺,加里·奥德曼,娜塔莉·波特曼', '主演：格利高里·派克,奥黛丽·赫本,埃迪·艾伯特', '主演：莱昂纳多·迪卡普里奥,凯特·温丝莱特,比利·赞恩', '主演：费雯·丽,克拉克·盖博,奥利维娅·德哈维兰']\n",
      "['主演：张国荣,张丰毅,巩俐', '主演：蒂姆·罗宾斯,摩根·弗里曼,鲍勃·冈顿', '主演：让·雷诺,加里·奥德曼,娜塔莉·波特曼', '主演：格利高里·派克,奥黛丽·赫本,埃迪·艾伯特', '主演：莱昂纳多·迪卡普里奥,凯特·温丝莱特,比利·赞恩', '主演：费雯·丽,克拉克·盖博,奥利维娅·德哈维兰', '主演：周星驰,巩俐,郑佩佩']\n",
      "['主演：张国荣,张丰毅,巩俐', '主演：蒂姆·罗宾斯,摩根·弗里曼,鲍勃·冈顿', '主演：让·雷诺,加里·奥德曼,娜塔莉·波特曼', '主演：格利高里·派克,奥黛丽·赫本,埃迪·艾伯特', '主演：莱昂纳多·迪卡普里奥,凯特·温丝莱特,比利·赞恩', '主演：费雯·丽,克拉克·盖博,奥利维娅·德哈维兰', '主演：周星驰,巩俐,郑佩佩', '主演：费雯·丽,罗伯特·泰勒,露塞尔·沃特森']\n",
      "['主演：张国荣,张丰毅,巩俐', '主演：蒂姆·罗宾斯,摩根·弗里曼,鲍勃·冈顿', '主演：让·雷诺,加里·奥德曼,娜塔莉·波特曼', '主演：格利高里·派克,奥黛丽·赫本,埃迪·艾伯特', '主演：莱昂纳多·迪卡普里奥,凯特·温丝莱特,比利·赞恩', '主演：费雯·丽,克拉克·盖博,奥利维娅·德哈维兰', '主演：周星驰,巩俐,郑佩佩', '主演：费雯·丽,罗伯特·泰勒,露塞尔·沃特森', '主演：连姆·尼森,拉尔夫·费因斯,本·金斯利']\n",
      "['主演：张国荣,张丰毅,巩俐', '主演：蒂姆·罗宾斯,摩根·弗里曼,鲍勃·冈顿', '主演：让·雷诺,加里·奥德曼,娜塔莉·波特曼', '主演：格利高里·派克,奥黛丽·赫本,埃迪·艾伯特', '主演：莱昂纳多·迪卡普里奥,凯特·温丝莱特,比利·赞恩', '主演：费雯·丽,克拉克·盖博,奥利维娅·德哈维兰', '主演：周星驰,巩俐,郑佩佩', '主演：费雯·丽,罗伯特·泰勒,露塞尔·沃特森', '主演：连姆·尼森,拉尔夫·费因斯,本·金斯利', '主演：周星驰,莫文蔚,张柏芝']\n"
     ]
    }
   ],
   "source": [
    "#解析所有的演员\n",
    "star=[]\n",
    "for i in range(len(soup.select('.star'))):\n",
    "    star.append(soup.select('.star')[i].string.strip())\n",
    "    print(star)"
   ]
  },
  {
   "cell_type": "code",
   "execution_count": 35,
   "metadata": {},
   "outputs": [
    {
     "name": "stdout",
     "output_type": "stream",
     "text": [
      "['上映时间：1993-07-26']\n",
      "['上映时间：1993-07-26', '上映时间：1994-09-10(加拿大)']\n",
      "['上映时间：1993-07-26', '上映时间：1994-09-10(加拿大)', '上映时间：1994-09-14(法国)']\n",
      "['上映时间：1993-07-26', '上映时间：1994-09-10(加拿大)', '上映时间：1994-09-14(法国)', '上映时间：1953-08-20(意大利)']\n",
      "['上映时间：1993-07-26', '上映时间：1994-09-10(加拿大)', '上映时间：1994-09-14(法国)', '上映时间：1953-08-20(意大利)', '上映时间：1998-04-03']\n",
      "['上映时间：1993-07-26', '上映时间：1994-09-10(加拿大)', '上映时间：1994-09-14(法国)', '上映时间：1953-08-20(意大利)', '上映时间：1998-04-03', '上映时间：1939-12-15(美国)']\n",
      "['上映时间：1993-07-26', '上映时间：1994-09-10(加拿大)', '上映时间：1994-09-14(法国)', '上映时间：1953-08-20(意大利)', '上映时间：1998-04-03', '上映时间：1939-12-15(美国)', '上映时间：1993-07-01(中国香港)']\n",
      "['上映时间：1993-07-26', '上映时间：1994-09-10(加拿大)', '上映时间：1994-09-14(法国)', '上映时间：1953-08-20(意大利)', '上映时间：1998-04-03', '上映时间：1939-12-15(美国)', '上映时间：1993-07-01(中国香港)', '上映时间：1940-05-17(美国)']\n",
      "['上映时间：1993-07-26', '上映时间：1994-09-10(加拿大)', '上映时间：1994-09-14(法国)', '上映时间：1953-08-20(意大利)', '上映时间：1998-04-03', '上映时间：1939-12-15(美国)', '上映时间：1993-07-01(中国香港)', '上映时间：1940-05-17(美国)', '上映时间：1993-11-30(美国)']\n",
      "['上映时间：1993-07-26', '上映时间：1994-09-10(加拿大)', '上映时间：1994-09-14(法国)', '上映时间：1953-08-20(意大利)', '上映时间：1998-04-03', '上映时间：1939-12-15(美国)', '上映时间：1993-07-01(中国香港)', '上映时间：1940-05-17(美国)', '上映时间：1993-11-30(美国)', '上映时间：1999-02-13(中国香港)']\n"
     ]
    }
   ],
   "source": [
    "#解析所有的上映时间\n",
    "releasetime=[]\n",
    "for i in range(len(soup.select('.releasetime'))):\n",
    "    releasetime.append(soup.select('.releasetime')[i].string)\n",
    "    print(releasetime)"
   ]
  },
  {
   "cell_type": "code",
   "execution_count": 36,
   "metadata": {},
   "outputs": [
    {
     "name": "stdout",
     "output_type": "stream",
     "text": [
      "['9.5']\n",
      "['9.5', '9.5']\n",
      "['9.5', '9.5', '9.5']\n",
      "['9.5', '9.5', '9.5', '9.0']\n",
      "['9.5', '9.5', '9.5', '9.0', '9.4']\n",
      "['9.5', '9.5', '9.5', '9.0', '9.4', '9.1']\n",
      "['9.5', '9.5', '9.5', '9.0', '9.4', '9.1', '9.1']\n",
      "['9.5', '9.5', '9.5', '9.0', '9.4', '9.1', '9.1', '9.2']\n",
      "['9.5', '9.5', '9.5', '9.0', '9.4', '9.1', '9.1', '9.2', '9.2']\n",
      "['9.5', '9.5', '9.5', '9.0', '9.4', '9.1', '9.1', '9.2', '9.2', '9.1']\n"
     ]
    }
   ],
   "source": [
    "#解析所有的评分\n",
    "score=[]\n",
    "for i in range(len(soup.select('.score .integer'))):\n",
    "    score.append(soup.select('.score .integer')[i].string+soup.select('.score .fraction')[i].string)\n",
    "    print(score)"
   ]
  },
  {
   "cell_type": "code",
   "execution_count": 37,
   "metadata": {},
   "outputs": [],
   "source": [
    "#解析所有的movieId"
   ]
  },
  {
   "cell_type": "code",
   "execution_count": 38,
   "metadata": {
    "scrolled": true
   },
   "outputs": [
    {
     "name": "stdout",
     "output_type": "stream",
     "text": [
      "['{movieId:1203}']\n",
      "['{movieId:1203}', '{movieId:1297}']\n",
      "['{movieId:1203}', '{movieId:1297}', '{movieId:4055}']\n",
      "['{movieId:1203}', '{movieId:1297}', '{movieId:4055}', '{movieId:2641}']\n",
      "['{movieId:1203}', '{movieId:1297}', '{movieId:4055}', '{movieId:2641}', '{movieId:267}']\n",
      "['{movieId:1203}', '{movieId:1297}', '{movieId:4055}', '{movieId:2641}', '{movieId:267}', '{movieId:7431}']\n",
      "['{movieId:1203}', '{movieId:1297}', '{movieId:4055}', '{movieId:2641}', '{movieId:267}', '{movieId:7431}', '{movieId:837}']\n",
      "['{movieId:1203}', '{movieId:1297}', '{movieId:4055}', '{movieId:2641}', '{movieId:267}', '{movieId:7431}', '{movieId:837}', '{movieId:2760}']\n",
      "['{movieId:1203}', '{movieId:1297}', '{movieId:4055}', '{movieId:2641}', '{movieId:267}', '{movieId:7431}', '{movieId:837}', '{movieId:2760}', '{movieId:3667}']\n",
      "['{movieId:1203}', '{movieId:1297}', '{movieId:4055}', '{movieId:2641}', '{movieId:267}', '{movieId:7431}', '{movieId:837}', '{movieId:2760}', '{movieId:3667}', '{movieId:9025}']\n"
     ]
    }
   ],
   "source": [
    "movieId=[]\n",
    "for i in range(len(soup.select('dd p a'))):\n",
    "    movieId.append(soup.select('dd p a')[i]['data-val'])\n",
    "    print(movieId)"
   ]
  },
  {
   "cell_type": "code",
   "execution_count": 39,
   "metadata": {},
   "outputs": [],
   "source": [
    "#目前有5个字段：title、star、releasetime、score、movieId，下面使用csv模块导出即可。"
   ]
  },
  {
   "cell_type": "code",
   "execution_count": 40,
   "metadata": {},
   "outputs": [
    {
     "name": "stdout",
     "output_type": "stream",
     "text": [
      "[('霸王别姬', '主演：张国荣,张丰毅,巩俐', '上映时间：1993-07-26', '9.5', '{movieId:1203}'), ('肖申克的救赎', '主演：蒂姆·罗宾斯,摩根·弗里曼,鲍勃·冈顿', '上映时间：1994-09-10(加拿大)', '9.5', '{movieId:1297}'), ('这个杀手不太冷', '主演：让·雷诺,加里·奥德曼,娜塔莉·波特曼', '上映时间：1994-09-14(法国)', '9.5', '{movieId:4055}'), ('罗马假日', '主演：格利高里·派克,奥黛丽·赫本,埃迪·艾伯特', '上映时间：1953-08-20(意大利)', '9.0', '{movieId:2641}'), ('泰坦尼克号', '主演：莱昂纳多·迪卡普里奥,凯特·温丝莱特,比利·赞恩', '上映时间：1998-04-03', '9.4', '{movieId:267}'), ('乱世佳人', '主演：费雯·丽,克拉克·盖博,奥利维娅·德哈维兰', '上映时间：1939-12-15(美国)', '9.1', '{movieId:7431}'), ('唐伯虎点秋香', '主演：周星驰,巩俐,郑佩佩', '上映时间：1993-07-01(中国香港)', '9.1', '{movieId:837}'), ('魂断蓝桥', '主演：费雯·丽,罗伯特·泰勒,露塞尔·沃特森', '上映时间：1940-05-17(美国)', '9.2', '{movieId:2760}'), ('辛德勒的名单', '主演：连姆·尼森,拉尔夫·费因斯,本·金斯利', '上映时间：1993-11-30(美国)', '9.2', '{movieId:3667}'), ('喜剧之王', '主演：周星驰,莫文蔚,张柏芝', '上映时间：1999-02-13(中国香港)', '9.1', '{movieId:9025}')]\n"
     ]
    }
   ],
   "source": [
    "movietopdata=list(zip(title,star,releasetime,score,movieId))#先使用zip进行压缩，然后变成列表的形式\n",
    "print(movietopdata)"
   ]
  },
  {
   "cell_type": "code",
   "execution_count": 41,
   "metadata": {},
   "outputs": [
    {
     "data": {
      "text/plain": [
       "('霸王别姬', '主演：张国荣,张丰毅,巩俐', '上映时间：1993-07-26', '9.5', '{movieId:1203}')"
      ]
     },
     "execution_count": 41,
     "metadata": {},
     "output_type": "execute_result"
    }
   ],
   "source": [
    "movietopdata[0]"
   ]
  },
  {
   "cell_type": "code",
   "execution_count": 42,
   "metadata": {},
   "outputs": [],
   "source": [
    "import pandas as pd"
   ]
  },
  {
   "cell_type": "code",
   "execution_count": 43,
   "metadata": {},
   "outputs": [],
   "source": [
    "col=['title','star','releasetime','score','movieId']"
   ]
  },
  {
   "cell_type": "code",
   "execution_count": 44,
   "metadata": {},
   "outputs": [],
   "source": [
    "topdata=pd.DataFrame(movietopdata,columns=col)"
   ]
  },
  {
   "cell_type": "code",
   "execution_count": 45,
   "metadata": {},
   "outputs": [],
   "source": [
    "topdata.to_csv('topdata.csv',encoding='utf-8')"
   ]
  },
  {
   "cell_type": "code",
   "execution_count": null,
   "metadata": {},
   "outputs": [],
   "source": []
  }
 ],
 "metadata": {
  "kernelspec": {
   "display_name": "Python 3",
   "language": "python",
   "name": "python3"
  },
  "language_info": {
   "codemirror_mode": {
    "name": "ipython",
    "version": 3
   },
   "file_extension": ".py",
   "mimetype": "text/x-python",
   "name": "python",
   "nbconvert_exporter": "python",
   "pygments_lexer": "ipython3",
   "version": "3.7.4"
  }
 },
 "nbformat": 4,
 "nbformat_minor": 2
}

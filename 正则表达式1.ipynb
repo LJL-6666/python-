{
 "cells": [
  {
   "cell_type": "markdown",
   "metadata": {},
   "source": [
    "# 对于以下字符串利用re.match进行结果匹配，写出匹配规则与re.match后的结果。"
   ]
  },
  {
   "cell_type": "markdown",
   "metadata": {},
   "source": [
    "## 第一题\n",
    "###（1）字符串：string='dcpeng123'\n",
    "###（2）匹配结果：'dcpeng123'"
   ]
  },
  {
   "cell_type": "code",
   "execution_count": 2,
   "metadata": {},
   "outputs": [
    {
     "name": "stdout",
     "output_type": "stream",
     "text": [
      "dcpeng123\n"
     ]
    }
   ],
   "source": [
    "import re \n",
    "string='dcpeng123'\n",
    "reget_str='^d.*'\n",
    "match_obj=re.match(reget_str,string)\n",
    "if match_obj:\n",
    "    print(match_obj.group())"
   ]
  },
  {
   "cell_type": "code",
   "execution_count": 25,
   "metadata": {},
   "outputs": [
    {
     "name": "stdout",
     "output_type": "stream",
     "text": [
      "dcpeng123\n"
     ]
    }
   ],
   "source": [
    "import re \n",
    "string='dcpeng123'\n",
    "reget='dcpeng\\d{3}'\n",
    "match=re.match(reget,string)\n",
    "if match:\n",
    "    print(match.group())"
   ]
  },
  {
   "cell_type": "markdown",
   "metadata": {},
   "source": [
    "# 第二题\n",
    "###（1）字符串：string='dcpeng123'\n",
    "###（2）匹配结果：'123'"
   ]
  },
  {
   "cell_type": "code",
   "execution_count": 28,
   "metadata": {},
   "outputs": [
    {
     "name": "stdout",
     "output_type": "stream",
     "text": [
      "123\n"
     ]
    }
   ],
   "source": [
    "import re \n",
    "string='dcpeng123'\n",
    "reget='^dcpeng(\\d{3})'\n",
    "match=re.match(reget,string)\n",
    "if match:\n",
    "    print(match.group(1))"
   ]
  },
  {
   "cell_type": "markdown",
   "metadata": {},
   "source": [
    "## 第三题\n",
    "###（1）字符串：string='加 油吧'\n",
    "###（2）匹配结果：'加 油'"
   ]
  },
  {
   "cell_type": "code",
   "execution_count": 57,
   "metadata": {},
   "outputs": [
    {
     "name": "stdout",
     "output_type": "stream",
     "text": [
      "加 油吧\n"
     ]
    }
   ],
   "source": [
    "import re \n",
    "string='加 油吧'\n",
    "reget='([\\u4E00-\\u9FA5]+\\s油吧)'\n",
    "match=re.match(reget,string)\n",
    "if match:\n",
    "    print(match.group())"
   ]
  },
  {
   "cell_type": "markdown",
   "metadata": {},
   "source": [
    "# 第四题\n",
    "###（1）字符串：string='加 油'\n",
    "###（2）匹配结果：'加 油'"
   ]
  },
  {
   "cell_type": "code",
   "execution_count": 56,
   "metadata": {},
   "outputs": [
    {
     "name": "stdout",
     "output_type": "stream",
     "text": [
      "加 油\n"
     ]
    }
   ],
   "source": [
    "import re \n",
    "string='加 油'\n",
    "reget_str='([\\u4E00-\\u9FA5]+\\s油)'\n",
    "match_obj=re.match(reget_str,string)\n",
    "if match_obj:\n",
    "    print(match_obj.group())"
   ]
  },
  {
   "cell_type": "markdown",
   "metadata": {},
   "source": [
    "# 第五题\n",
    "###（1）字符串：string='加     油'\n",
    "###（2）匹配结果：'加 油'"
   ]
  },
  {
   "cell_type": "code",
   "execution_count": 55,
   "metadata": {},
   "outputs": [
    {
     "name": "stdout",
     "output_type": "stream",
     "text": [
      "加     油\n"
     ]
    }
   ],
   "source": [
    "import re \n",
    "string='加     油'\n",
    "reget_str='([\\u4E00-\\u9FA5]+\\s\\s\\s\\s\\s油)'\n",
    "match_obj=re.match(reget_str,string)\n",
    "if match_obj:\n",
    "    print(match_obj.group())"
   ]
  },
  {
   "cell_type": "markdown",
   "metadata": {},
   "source": [
    "## 第六题\n",
    "###（1）字符串：string='加a油'\n",
    "###（2）匹配结果：'加a油'"
   ]
  },
  {
   "cell_type": "code",
   "execution_count": 52,
   "metadata": {},
   "outputs": [
    {
     "name": "stdout",
     "output_type": "stream",
     "text": [
      "加a油\n"
     ]
    }
   ],
   "source": [
    "import re \n",
    "string='加a油'\n",
    "reget_str='([\\u4E00-\\u9FA5]+a油)'\n",
    "match_obj=re.match(reget_str,string)\n",
    "if match_obj:\n",
    "    print(match_obj.group())"
   ]
  },
  {
   "cell_type": "markdown",
   "metadata": {},
   "source": [
    "## 第七题\n",
    "###（1）字符串：string='加_油'\n",
    "###（2）匹配结果：'加_油'"
   ]
  },
  {
   "cell_type": "code",
   "execution_count": 105,
   "metadata": {},
   "outputs": [
    {
     "name": "stdout",
     "output_type": "stream",
     "text": [
      "加_油\n"
     ]
    }
   ],
   "source": [
    "import re \n",
    "string='加_油'\n",
    "reget_str='([\\u4E00-\\u9FA5]+\\_油)'\n",
    "match_obj=re.match(reget_str,string)\n",
    "if match_obj:\n",
    "    print(match_obj.group())"
   ]
  },
  {
   "cell_type": "markdown",
   "metadata": {},
   "source": [
    "## 第八题\n",
    "###（1）字符串：string='xxx graduates from 清华大学'\n",
    "###（2）匹配结果：'清华大学'"
   ]
  },
  {
   "cell_type": "code",
   "execution_count": 69,
   "metadata": {},
   "outputs": [
    {
     "name": "stdout",
     "output_type": "stream",
     "text": [
      "清华大学\n"
     ]
    }
   ],
   "source": [
    "import re \n",
    "string='xxx graduates from 清华大学'\n",
    "reget_str='.*?([\\u4E00-\\u9FA5]+大学)'\n",
    "match_obj=re.match(reget_str,string)\n",
    "if match_obj:\n",
    "    print(match_obj.group(1))"
   ]
  },
  {
   "cell_type": "markdown",
   "metadata": {},
   "source": [
    "## 第九题\n",
    "###（1）字符串：string='xxx 出生与2004年'\n",
    "###（2）匹配结果：'4'"
   ]
  },
  {
   "cell_type": "code",
   "execution_count": 122,
   "metadata": {},
   "outputs": [
    {
     "name": "stdout",
     "output_type": "stream",
     "text": [
      "4\n"
     ]
    }
   ],
   "source": [
    "import re \n",
    "string='xxx 出生与2004年'\n",
    "reget_s='.*(\\d{1})'\n",
    "match=re.match(reget_s,string)\n",
    "if match:\n",
    "    print(match.group(1))"
   ]
  },
  {
   "cell_type": "markdown",
   "metadata": {},
   "source": [
    "## 第十题\n",
    "###（1）字符串：string='xxx 出生与2004年'\n",
    "###（2）匹配结果：'2004'"
   ]
  },
  {
   "cell_type": "code",
   "execution_count": 92,
   "metadata": {
    "scrolled": true
   },
   "outputs": [
    {
     "name": "stdout",
     "output_type": "stream",
     "text": [
      "2004\n"
     ]
    }
   ],
   "source": [
    "import re \n",
    "string='xxx 出生与2004年'\n",
    "reget_str='.*?(\\d{4})'\n",
    "match_obj=re.match(reget_str,string)\n",
    "if match_obj:\n",
    "    print(match_obj.group(1))"
   ]
  },
  {
   "cell_type": "code",
   "execution_count": null,
   "metadata": {},
   "outputs": [],
   "source": []
  }
 ],
 "metadata": {
  "kernelspec": {
   "display_name": "Python 3",
   "language": "python",
   "name": "python3"
  },
  "language_info": {
   "codemirror_mode": {
    "name": "ipython",
    "version": 3
   },
   "file_extension": ".py",
   "mimetype": "text/x-python",
   "name": "python",
   "nbconvert_exporter": "python",
   "pygments_lexer": "ipython3",
   "version": "3.7.4"
  }
 },
 "nbformat": 4,
 "nbformat_minor": 2
}

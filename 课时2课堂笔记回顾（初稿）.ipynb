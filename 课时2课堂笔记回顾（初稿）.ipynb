{
 "cells": [
  {
   "cell_type": "markdown",
   "metadata": {},
   "source": [
    "# 课堂重点内容记录板，帮助大家回顾要点，我总结好就放到创课\n",
    "\n",
    "# 欢迎大家课后随时补充笔记到这里，让我们一起共建知识体系\n",
    "\n",
    "# Course Assistant: Carlton Cao"
   ]
  },
  {
   "cell_type": "markdown",
   "metadata": {},
   "source": [
    "我还会记录大家的学习情况哦"
   ]
  },
  {
   "cell_type": "markdown",
   "metadata": {},
   "source": [
    "本节课主题：网页基础"
   ]
  },
  {
   "cell_type": "markdown",
   "metadata": {},
   "source": [
    "# 1. 回顾MongoDB和MYSQL安装\n",
    "\n",
    "zoom上传了MongoDB的配置文件。需要在CDM（DOS）环境下安装，如何创建、开启和关闭服务。视频回顾，了解大家的安装情况：\n",
    "\n",
    "- Windows环境安装路径。（不推荐：C盘program files的默认安装）\n",
    "\n",
    "- Install Compass文件的时候需要很长时间，大家要耐心等待（坑1）\n",
    "\n",
    "- 安装完成后，回到安装目录下，新建data，logs，server文件。dbpath文件放到data路径，logpath放到log文件，以此类推，按照流程做就可以。\n",
    "\n",
    "- 环境变量设置：系统变量新加path（坑2）\n",
    "\n",
    "- 管理权限打开cmd，记住一定是管理员身份\n",
    "\n",
    "问题：没有那个server文件夹   直接就是 server里面的bin ->剩下文件我们要自己建立。"
   ]
  },
  {
   "cell_type": "markdown",
   "metadata": {},
   "source": [
    "# 2. 知识点回顾：什么是爬虫？\n",
    "\n",
    "同学回答：如同网络支柱一样，自动打开URL，收集数据\n",
    "\n",
    "1）请求网站\n",
    "2）提取数据\n",
    "3）自动化程序。"
   ]
  },
  {
   "cell_type": "markdown",
   "metadata": {},
   "source": [
    "# 3. 一个网页由什么组成？\n",
    "\n",
    "同学们的想法：域名，标题，主题，图片，文字，HTML代码，网址，网页链接，段落，文字，空间\n",
    "\n",
    "HTML - 标题，段落，图片，表单（网页骨架）\n",
    "CSS - 颜色，大小，形状（漂亮，模样）\n",
    "JavaScript - 改变HTML，改变css，让网页数据动态交互，让网页显示动态动画（形神）\n",
    "\n",
    "案例：网页Demo\n",
    "\n",
    "文档以Doctype开头，HTML类型的网页\n",
    "\n",
    "中间有body（主体）等内容信息，比如title标题，div属性（就是我们要采集的数据所在位置）\n",
    "\n",
    "<html>开头，必须是</html>结尾闭合，但是网页也不必闭合\n",
    "\n",
    "# HTML DOM\n",
    "\n",
    "HTML中，所有标签都是节点，我们使用HTML DOM行程一个树形节点，包含文本节点，元素节点等等。了解网页构架，了解元素有什么，怎么分类的，他们分别是要表达什么。例如href一般就代表网站网址，图片网址等等。\n",
    "\n",
    "head - title - 文本\n",
    "\n",
    "元素 - 元素标签（例如<a>）-属性标签（例如<href>） - 文本信息\n",
    "    "
   ]
  },
  {
   "cell_type": "markdown",
   "metadata": {},
   "source": [
    "# CSS - 颜色，形状（美化作用）\n",
    "\n",
    "比如style标签\n",
    "\n",
    "<style\n",
    "type = \"text/css\"> \n",
    "\n",
    "wrapper（代表文字聚拢）\n",
    "    "
   ]
  },
  {
   "cell_type": "markdown",
   "metadata": {},
   "source": [
    "\n",
    "# HTML\n",
    "\n",
    "思考题：什么是解析？\n",
    "\n",
    "同学们的想法：代码可视化，代码运行结果，实现代码的过程\n",
    "\n",
    "我们要确定网页的结构，找到每一框架数据的位置\n",
    "\n",
    "示例演示：网页百度\n",
    "\n",
    "搜索”新闻“词条，有标题，翻页和角标\n",
    "\n",
    "注意：每一条搜索结果的结构是一样的\n"
   ]
  },
  {
   "cell_type": "markdown",
   "metadata": {},
   "source": [
    "\n",
    "# 小练习：大家打开一个你感兴趣的网页，打开控制台，查看网页源代码。\n",
    "\n"
   ]
  },
  {
   "cell_type": "markdown",
   "metadata": {},
   "source": [
    "# 爬虫的基本流程\n",
    "\n",
    "发起请求（Reuqests） - 获取相应内容（查看Response结果，有可能是HTML，JSON，二进制等数据类型） - 解析内容（利用解析工具，例如正则表达式来解析HTML数据。如果是JSON数据，需要用JSON解析库） - 保存数据\n",
    "\n",
    "\n",
    "# 什么是请求？什么是响应？\n",
    "\n",
    "了解Request和Response\n",
    "\n",
    "1. HTTP或者HTTPS请求响应：通过解析域名获取IP地址，并向其发出通行请求，最后会获得响应。我们将数据诸如图片，数据进行转码，并响应。\n",
    "\n",
    "\n",
    "2. URL\n",
    "\n",
    "猫眼电影：HTTPS//maoyan.com/ board / 4 ? offset = 10\n",
    "         \n",
    "board = 定位锚         \n",
    "offset = 10 翻页代码\n",
    "                        \n",
    "3. HTTP / HTTPS 协议\n",
    "\n",
    "\n",
    "4. HTTP的请求和响应方式\n",
    "\n",
    "常见有两种：GET 和 POST\n",
    "\n",
    "\n",
    "                      \n"
   ]
  },
  {
   "cell_type": "markdown",
   "metadata": {},
   "source": [
    "# 案例分析\n",
    "\n",
    "控制台 - 选择 Network - 刷新列表\n",
    "\n",
    "观察Request信息的数据流\n",
    "\n",
    "点击一个你需要的数据信息 - 可以在preview查看信息是什么 - 查看Header / Response的解析\n",
    "\n",
    "Headers信息\n",
    "\n",
    "Request URL:请求网址\n",
    "\n",
    "RequestMethod：Get / Post\n",
    "\n",
    "Status Code:如果为200，即为正常\n",
    "\n",
    "Response Header:\n",
    "\n",
    "Request Headers:Cookies信息（数据记忆，消费者行为分析）\n",
    "\n",
    "User Agent:查看你的网页浏览方式\n"
   ]
  },
  {
   "cell_type": "markdown",
   "metadata": {},
   "source": [
    "# Request\n",
    "\n",
    "请求方法（例如，GET，POST，PUT，HEAD）\n",
    "\n",
    "请求URL\n",
    "\n",
    "请求头（例如，User Agent，Cookies）\n",
    "\n",
    "HTTP状态码\n",
    "\n",
    "HTTP头部信息，我们常用的是User-Agent，Cookies\n",
    "\n",
    "Cookies：回头给大家完善一些资料"
   ]
  },
  {
   "cell_type": "markdown",
   "metadata": {},
   "source": [
    "# 练习 找到网页的请求信息\n",
    "\n",
    "# 课上练习"
   ]
  },
  {
   "cell_type": "code",
   "execution_count": null,
   "metadata": {},
   "outputs": [],
   "source": []
  },
  {
   "cell_type": "code",
   "execution_count": null,
   "metadata": {},
   "outputs": [],
   "source": []
  },
  {
   "cell_type": "code",
   "execution_count": null,
   "metadata": {},
   "outputs": [],
   "source": []
  },
  {
   "cell_type": "code",
   "execution_count": null,
   "metadata": {},
   "outputs": [],
   "source": []
  },
  {
   "cell_type": "code",
   "execution_count": null,
   "metadata": {},
   "outputs": [],
   "source": []
  },
  {
   "cell_type": "code",
   "execution_count": null,
   "metadata": {},
   "outputs": [],
   "source": []
  },
  {
   "cell_type": "code",
   "execution_count": null,
   "metadata": {},
   "outputs": [],
   "source": []
  },
  {
   "cell_type": "code",
   "execution_count": null,
   "metadata": {},
   "outputs": [],
   "source": []
  },
  {
   "cell_type": "code",
   "execution_count": null,
   "metadata": {},
   "outputs": [],
   "source": []
  },
  {
   "cell_type": "code",
   "execution_count": null,
   "metadata": {},
   "outputs": [],
   "source": []
  }
 ],
 "metadata": {
  "kernelspec": {
   "display_name": "Python 3",
   "language": "python",
   "name": "python3"
  },
  "language_info": {
   "codemirror_mode": {
    "name": "ipython",
    "version": 3
   },
   "file_extension": ".py",
   "mimetype": "text/x-python",
   "name": "python",
   "nbconvert_exporter": "python",
   "pygments_lexer": "ipython3",
   "version": "3.7.4"
  }
 },
 "nbformat": 4,
 "nbformat_minor": 2
}

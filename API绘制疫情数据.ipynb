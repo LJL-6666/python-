{
 "cells": [
  {
   "cell_type": "code",
   "execution_count": 110,
   "metadata": {},
   "outputs": [],
   "source": [
    "#天行数据获取API：https://www.tianapi.com/"
   ]
  },
  {
   "cell_type": "code",
   "execution_count": 1,
   "metadata": {},
   "outputs": [],
   "source": [
    "import requests\n",
    "import json"
   ]
  },
  {
   "cell_type": "code",
   "execution_count": 2,
   "metadata": {},
   "outputs": [],
   "source": [
    "url='http://api.tianapi.com/txapi/ncovcity/index?Array&key=自己的ak'"
   ]
  },
  {
   "cell_type": "code",
   "execution_count": 3,
   "metadata": {},
   "outputs": [],
   "source": [
    "r=requests.get(url)"
   ]
  },
  {
   "cell_type": "code",
   "execution_count": 4,
   "metadata": {},
   "outputs": [],
   "source": [
    "content=json.loads(r.text)"
   ]
  },
  {
   "cell_type": "code",
   "execution_count": 5,
   "metadata": {
    "scrolled": false
   },
   "outputs": [],
   "source": [
    "#content"
   ]
  },
  {
   "cell_type": "code",
   "execution_count": 6,
   "metadata": {},
   "outputs": [],
   "source": [
    "def get_data():\n",
    "    url='http://api.tianapi.com/txapi/ncovcity/index?Array&key=自己的ak'\n",
    "    r=requests.get(url)\n",
    "    content=json.loads(r.text)\n",
    "    return content"
   ]
  },
  {
   "cell_type": "code",
   "execution_count": 7,
   "metadata": {},
   "outputs": [],
   "source": [
    "def process_data(content):\n",
    "    province=[]\n",
    "    num=[]\n",
    "    dead=[]\n",
    "    for i in range(len(content['newslist'])):\n",
    "        province.append(content['newslist'][i]['provinceShortName'])\n",
    "        num.append(content['newslist'][i]['confirmedCount'])\n",
    "        dead.append(content['newslist'][i]['deadCount'])\n",
    "    return province,num"
   ]
  },
  {
   "cell_type": "code",
   "execution_count": 8,
   "metadata": {
    "scrolled": true
   },
   "outputs": [],
   "source": [
    "if __name__=='__main__':\n",
    "    content=get_data()\n",
    "    province,num=process_data(content)"
   ]
  },
  {
   "cell_type": "code",
   "execution_count": 10,
   "metadata": {},
   "outputs": [
    {
     "data": {
      "text/plain": [
       "[1066,\n",
       " 232,\n",
       " 155,\n",
       " 441,\n",
       " 671,\n",
       " 68135,\n",
       " 593,\n",
       " 564,\n",
       " 1592,\n",
       " 358,\n",
       " 788,\n",
       " 192,\n",
       " 169,\n",
       " 1276,\n",
       " 1268,\n",
       " 1019,\n",
       " 991,\n",
       " 945,\n",
       " 937,\n",
       " 653,\n",
       " 579,\n",
       " 328,\n",
       " 308,\n",
       " 254,\n",
       " 198,\n",
       " 185,\n",
       " 149,\n",
       " 147,\n",
       " 139,\n",
       " 76,\n",
       " 75,\n",
       " 45,\n",
       " 18,\n",
       " 1]"
      ]
     },
     "execution_count": 10,
     "metadata": {},
     "output_type": "execute_result"
    }
   ],
   "source": [
    "num"
   ]
  },
  {
   "cell_type": "code",
   "execution_count": null,
   "metadata": {},
   "outputs": [],
   "source": []
  }
 ],
 "metadata": {
  "kernelspec": {
   "display_name": "Python 3",
   "language": "python",
   "name": "python3"
  },
  "language_info": {
   "codemirror_mode": {
    "name": "ipython",
    "version": 3
   },
   "file_extension": ".py",
   "mimetype": "text/x-python",
   "name": "python",
   "nbconvert_exporter": "python",
   "pygments_lexer": "ipython3",
   "version": "3.7.4"
  }
 },
 "nbformat": 4,
 "nbformat_minor": 2
}

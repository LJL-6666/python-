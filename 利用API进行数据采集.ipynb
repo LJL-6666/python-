{
 "cells": [
  {
   "cell_type": "markdown",
   "metadata": {},
   "source": [
    "# 一、什么是API？"
   ]
  },
  {
   "cell_type": "markdown",
   "metadata": {},
   "source": [
    "API（ApplicationProgrammingInterface,应用程序编程接口）是一些预先定义的函数，目的是提供应用程序与开发人员基于某软件或硬件得以访问一组例程的能力，而又无需访问源码，或理解内部工作机制的细节。"
   ]
  },
  {
   "cell_type": "markdown",
   "metadata": {},
   "source": [
    "API可以理解成一个地方，那里有整理得非常好的、供人随意调用的资源。"
   ]
  },
  {
   "cell_type": "markdown",
   "metadata": {},
   "source": [
    "1、如何通俗地解释API？"
   ]
  },
  {
   "cell_type": "markdown",
   "metadata": {},
   "source": [
    "假设你有一个银行，你有一个仓库来存钱，一个记账本来记各种业务。一个简单的管理银行的方法是直接将权限给所有人，让客户自己动手完成各种业务。这种模式下，一个客户想要存钱的话，他需要：\n",
    "\n",
    "拿着钱去银行\n",
    "打开仓库把钱放进去\n",
    "把这笔业务写到记帐本上\n",
    "离开银行\n",
    "显然这存在着问题：\n",
    "\n",
    "想开开仓库门需要废很大力气，并不是所有的人都能打开，还有些人不识字不会记账。\n",
    "在这个模式下，我们假定所有人都是诚实的，显然这并不成立。（说不定哪一个人存了100块钱记账的时候写了10000块）。\n",
    "这时你遇到麻烦了。"
   ]
  },
  {
   "cell_type": "markdown",
   "metadata": {},
   "source": [
    "雇一个柜员\n",
    "要是我们雇一个体格棒，办事还麻利的人来处理开仓库，记账的问题呢？\n",
    "\n",
    "小娜登场了。\n",
    "\n",
    "现在模式为：建一个柜台将仓库和记账本和顾客分开，这样顾客就不需要再去管仓库和记账本了。想存钱的话直接找小娜就行。"
   ]
  },
  {
   "cell_type": "markdown",
   "metadata": {},
   "source": [
    "这种模式下，要是有人想存钱，他们必须：\n",
    "\n",
    "拿钱去银行\n",
    "告诉小娜我是 MMM 我想要存￥￥￥。\n",
    "小娜打开仓库把钱放进去\n",
    "小娜把业务（transaction ）记录好\n",
    "告诉你业务办好了\n",
    "顾客离开银行"
   ]
  },
  {
   "cell_type": "markdown",
   "metadata": {},
   "source": [
    "现在不会发生打不开仓库门或者是记错账的情况了，你觉得很满意。\n",
    "\n",
    "到此我们引出今天的主角API（ Application Programming Interface），它能够帮你实现轻松的和其他软件组件（如服务器，操作系统等）的交互。"
   ]
  },
  {
   "cell_type": "markdown",
   "metadata": {},
   "source": [
    "在上面举的例子中，我们雇一个收纳员帮顾客解决了开仓门，放钱，记账这一系列繁琐的过程。这大大节省了顾客的时间，同时提高了银行的效率。同理，如果我们将操作的具体实施步骤抽象化，这将会大大降低开发人员的负担（去记忆所有的步骤花费的力气），从而大大提高了效率。"
   ]
  },
  {
   "cell_type": "markdown",
   "metadata": {},
   "source": [
    "另外的好处是，只要他们遵循了同一个协议，组件可以交换或者是改变。银行不需要知道时哪一个顾客或者说顾客是怎么进来的，顾客也不需要知道银行拿自己的钱去做什么了。只要负责的柜员在这里并做好工作，整个流程将会继续工作。\n",
    "\n",
    "API 应用范围很广：从操作系统中简单的 fork() 到我们接触的百度地图API，和风天气API，又或者是邢远分享的段子，这些 API 都大大简化了程序员的工作。"
   ]
  },
  {
   "cell_type": "markdown",
   "metadata": {},
   "source": [
    "银行里有什么"
   ]
  },
  {
   "cell_type": "code",
   "execution_count": null,
   "metadata": {},
   "outputs": [],
   "source": [
    "你可能已经注意到了银行分成了两个区域：顾客在前台排好队来办理业务，后台完成各种对钱的操作。在中间层，前台和后台发生了交互， 双方都不能越界 ，交互只能发生在中间的区域。\n",
    "\n",
    "在 API 术语里面，我们管中间的这块区域叫做接口 Interface ；在这里各个部分发生交互。在我们的银行中，前台和后台都同意并且规定使用 Interface 来交换信息。\n",
    "\n",
    "现在，我们假定 Bob 想要取钱。他到了柜台找到了小娜，小娜知道该怎样去取钱，她取好了之后告诉了 Bob。"
   ]
  },
  {
   "cell_type": "markdown",
   "metadata": {},
   "source": [
    "Bob 这时候又问：“你知道今天的股票行情吗”\n",
    "\n",
    "小娜：？？？？WTF ?\n",
    "\n",
    "在这个例子里面，小娜知道怎样取钱和存钱 , 但是她不知道如何去给Bob查查今天的股票行情是怎样的。这个例子引出了另一个概念 协议（Protocol）。\n",
    "\n",
    "在 API 术语中，协议 是规定了各部分之间如何进行交流的一系列规则的集合。各部分之间想要完成交互必须理解并且遵守同一个协议。\n",
    "\n",
    "同时，我们注意到了交换时用的是中文。如果Bob 对小娜说「我想撳五百蚊出嚟呀唔該」，小娜不懂广东话，所以没法理解Bob说的是什么，这又引出了另一个概念 格式（Format）\n",
    "\n",
    "在程序员的世界里，通用的格式包含 XML 和 JSON。\n",
    "\n",
    "最后，让我们假设银行想要扩展业务到股市，这时候就需要一位特殊的接待员来处理与股票相关的业务了，这时，小冰就登场啦。"
   ]
  },
  {
   "cell_type": "markdown",
   "metadata": {},
   "source": [
    "在 API 术语里面， API 端点 通常是指在同一个接口中提供特定功能子集的服务提供者。在这种情况下，小冰和小娜都是端点。（小冰和小娜是同一个柜台不同功能的提供者）不同的端点可以有不同的协议和不同的格式。\n",
    "\n",
    "总结起来：接口是不同组件进行交互的地方。协议是一系列规定了他们之间怎样进行交互的规则。格式定义了他们通过什么进行交流（JSON或者是XML），端点可以在同一个接口里面提供不同的功能。"
   ]
  },
  {
   "cell_type": "markdown",
   "metadata": {},
   "source": [
    "### 二、利用API进行爬虫"
   ]
  },
  {
   "cell_type": "markdown",
   "metadata": {},
   "source": [
    "#### 1、基于API的爬虫的一般步骤"
   ]
  },
  {
   "cell_type": "markdown",
   "metadata": {},
   "source": [
    "在网站注册开发者账户用户名，获得相应的开发者密钥\n",
    "\n",
    "在网站的API帮助说明文档中找到自己需要使用的API,确认API请求的限制次数,确认调用API需要使用的参数\n",
    "\n",
    "在联网状态下，编写正确代码调用API\n",
    "\n",
    "从API返回的内容（JSON格式）获取正确的属性\n",
    "\n",
    "将获取的内容存储到本地（文件或数据库）"
   ]
  },
  {
   "cell_type": "markdown",
   "metadata": {},
   "source": [
    "### 三、举例：百度地图API获取公园信息"
   ]
  },
  {
   "cell_type": "markdown",
   "metadata": {},
   "source": [
    "### 1.项目描述"
   ]
  },
  {
   "cell_type": "markdown",
   "metadata": {},
   "source": [
    "通过百度地图web服务API获取中国所有城市的公园数据，并且获取每一个公园具体的评分、描述等详情，最终将数据存储到MySQL数据库中。"
   ]
  },
  {
   "cell_type": "markdown",
   "metadata": {},
   "source": [
    "百度地图API的URL为：http://lbsyun.baidu.com/index.php?title=webapi/guide/webservice-placeapi\n",
    "\n",
    "网站爬虫除了可以直接进入该网站的网页进行抓取外，还可以通过网站提供的API进行抓取。\n",
    "\n",
    "除了百度地图外，其他国内提供api免费获取数据的站点还有新浪微博，豆瓣电影，饿了吗，豆瓣音乐等等，国外提供api服务的有Facebook，Twitter等。除此之外，还有很多收费的api数据站点服务，包括百度 api store 和聚合数据等。其他可以搜索一下就有了。\n",
    "\n",
    "网络爬虫除了进入网站网页爬取外还可以通过网站提供的api进行爬取，由于api是官方提供的获取数据通道，所以数据的获取没有争议，如果一个网站提供api获取数据，最好使用api进行数据获取，简单又便捷。\n",
    "\n",
    "除了百度地图外，其他国内提供api免费获取数据的站点还有新浪微博，豆瓣电影，饿了吗，豆瓣音乐等等，国外提供api服务的有Facebook，Twitter等。除此之外，还有很多收费的api数据站点服务，包括百度 api store 和聚合数据等。其他可以搜索一下就有了。"
   ]
  },
  {
   "cell_type": "markdown",
   "metadata": {},
   "source": [
    "### 2.获取API密钥"
   ]
  },
  {
   "cell_type": "markdown",
   "metadata": {},
   "source": [
    "登录百度账号，创建应用，并在IP白名单的文本框中填写0.0.0.0/0，表示不想对IP做任何限制。\n",
    "\n",
    "进入这个 http://lbsyun.baidu.com/index.php?title=webapi/guide/webservice-placeapi 网址后，点击右上角的登录，用自己的百度账号进行登录，登录后可以进入api控制台。（如果没有注册为开发者需要注册认证完即可），然后单击创建应用按钮。"
   ]
  },
  {
   "cell_type": "markdown",
   "metadata": {},
   "source": [
    "填写好应用名称，选择使用ip白名单校验方式进行校验。在ip白名单的文本框中填写0.0.0.0/0，表示不对ip做任何限制。单机提交，即可在api控制台看到自己创建的AK，就是api请求串的必填参数。"
   ]
  },
  {
   "cell_type": "markdown",
   "metadata": {},
   "source": [
    "有一点注意的是，未认证（个人或企业）的情况下，每个账号一天最多只有2000次调用额，如果认证了，每个账号每天有10万次调用额。"
   ]
  },
  {
   "cell_type": "code",
   "execution_count": null,
   "metadata": {},
   "outputs": [],
   "source": [
    "import requests\n",
    "import json"
   ]
  },
  {
   "cell_type": "code",
   "execution_count": 14,
   "metadata": {},
   "outputs": [],
   "source": [
    "url='http://api.tianapi.com/txapi/starinfo/index?key=自己的ak&name=杨幂'"
   ]
  },
  {
   "cell_type": "code",
   "execution_count": 15,
   "metadata": {},
   "outputs": [],
   "source": [
    "r=requests.get(url)"
   ]
  },
  {
   "cell_type": "code",
   "execution_count": 16,
   "metadata": {},
   "outputs": [],
   "source": [
    "content=json.loads(r.text)"
   ]
  },
  {
   "cell_type": "code",
   "execution_count": 17,
   "metadata": {},
   "outputs": [
    {
     "data": {
      "text/plain": [
       "{'code': 200,\n",
       " 'msg': 'success',\n",
       " 'newslist': [{'name': '应采儿',\n",
       "   'sex': '女',\n",
       "   'nationality': '美国',\n",
       "   'birthDate': '1983-6-20',\n",
       "   'occupation': '演员',\n",
       "   'high': '168cm',\n",
       "   'weight': '48kg',\n",
       "   'desc': '\\u3000\\u30002000年，当时17岁的应采儿参加了美国华埠小姐选美比赛，并获得亚军。同年，应采儿在暑假和母亲前往香港渡假时，被朋友推荐参加中国星招考新人的面试，其后被向华强太太陈岚赏识，签约成为其旗下演员。之后当电影《全职杀手》要开拍时，中国星把应采儿带去试镜，被刘德华和反町隆史相中而出任片中第二女主角，从此开始其演艺生涯。但是因为她要放下高中学业来港拍戏，遭到爷爷的极力反对。\\u3000\\u3000之后当电影《全职杀手》要开拍时，中国星把应采儿带去试镜，被刘德华和反町隆史相中而出任片中第二女主角，从此开始其演艺生涯。美国华埠小姐亚军',\n",
       "   'nativePlace': '',\n",
       "   'school': '大专',\n",
       "   'company': '',\n",
       "   'constellation': '双子座',\n",
       "   'habit': '唱歌、跳舞、上网',\n",
       "   'imageURL': 'http://img.star.iecity.com/Upload/Star/201507/22/20150722053620195.jpg'}]}"
      ]
     },
     "execution_count": 17,
     "metadata": {},
     "output_type": "execute_result"
    }
   ],
   "source": [
    "content"
   ]
  },
  {
   "cell_type": "code",
   "execution_count": null,
   "metadata": {},
   "outputs": [],
   "source": []
  }
 ],
 "metadata": {
  "kernelspec": {
   "display_name": "Python 3",
   "language": "python",
   "name": "python3"
  },
  "language_info": {
   "codemirror_mode": {
    "name": "ipython",
    "version": 3
   },
   "file_extension": ".py",
   "mimetype": "text/x-python",
   "name": "python",
   "nbconvert_exporter": "python",
   "pygments_lexer": "ipython3",
   "version": "3.7.4"
  }
 },
 "nbformat": 4,
 "nbformat_minor": 2
}
